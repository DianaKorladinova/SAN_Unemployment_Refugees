{
 "cells": [
  {
   "cell_type": "markdown",
   "metadata": {},
   "source": [
    "## Preparation"
   ]
  },
  {
   "cell_type": "code",
   "execution_count": null,
   "metadata": {},
   "outputs": [],
   "source": [
    "import pandas as pd\n",
    "import matplotlib.pyplot as plt\n",
    "import numpy as np"
   ]
  },
  {
   "cell_type": "code",
   "execution_count": null,
   "metadata": {},
   "outputs": [],
   "source": [
    "pd.set_option('display.expand_frame_repr', False)  #prevent line breaks in dataframe print"
   ]
  },
  {
   "cell_type": "markdown",
   "metadata": {},
   "source": [
    "Load dataset"
   ]
  },
  {
   "cell_type": "code",
   "execution_count": null,
   "metadata": {},
   "outputs": [],
   "source": [
    "orig_df = pd.read_csv('../dataset/team_A_dataset.csv')\n",
    "\n",
    "#all columns with NANs\n",
    "print(orig_df.columns[orig_df.isna().any()].tolist())\n",
    "\n",
    "#replacing NANs with zeros\n",
    "df = orig_df.fillna(0)"
   ]
  },
  {
   "cell_type": "markdown",
   "metadata": {},
   "source": [
    "## Aggregate over kraje"
   ]
  },
  {
   "cell_type": "code",
   "execution_count": null,
   "metadata": {},
   "outputs": [],
   "source": [
    "avg_cols = ['avg_monthly_salary', 'monthly_min_wage', 'monthly_inflation_rate_wrt_last_year', 'reer', 'bilance',\n",
    "            'avg_energy_price', 'avg_gasoline_price', 'avg_natural_gas_price']\n",
    "\n",
    "avg_df = orig_df.groupby(['month', 'year'], as_index=False)[avg_cols].mean()\n",
    "\n",
    "sum_cols = ['general_thefts', 'break_in_thefts', 'uchazeciOZamestnaniUoZ', 'uchazeciOZamestnaniUoZZeny',\n",
    "            'noveHlaseniUchazeci', 'noveHlasenaAUvolnenaVPM', 'obsazenaAZrusenaVPM', 'absolventiSkolAMladistvi',\n",
    "            'z_do_65', 'm_do_65', 'celkem']\n",
    "\n",
    "sum_df = orig_df.groupby(['month', 'year'], as_index=False)[sum_cols].sum()\n",
    "\n",
    "df = pd.merge(avg_df, sum_df, on=['month', 'year'])\n",
    "\n",
    "df['date'] = pd.to_datetime(df['year'].astype(str) + df['month'].astype(str), format='%Y%m')\n",
    "\n",
    "df = df.set_index('date')\n",
    "df = df.sort_index()\n",
    "\n",
    "df = df.drop(columns=['month', 'year'])\n",
    "\n",
    "df.tail(5)"
   ]
  },
  {
   "cell_type": "markdown",
   "metadata": {},
   "source": [
    "## Time plots"
   ]
  },
  {
   "cell_type": "code",
   "execution_count": null,
   "metadata": {},
   "outputs": [],
   "source": [
    "plot_years = True  #plot vertical lines to show years"
   ]
  },
  {
   "cell_type": "code",
   "execution_count": null,
   "metadata": {},
   "outputs": [],
   "source": [
    "plt.figure(figsize=(16, 8))\n",
    "plt.plot(df.index, df['avg_monthly_salary'])\n",
    "if plot_years:\n",
    "    for x in df.index[::12]:\n",
    "        plt.axvline(x=x, color='black', linestyle='dashed', linewidth=1.2, alpha=0.9, label='axvline - full height')\n",
    "plt.title(\"Average wage\")\n",
    "plt.xlabel(\"Date\")\n",
    "plt.ylabel(\"Average monthly wage [Kč]\");"
   ]
  },
  {
   "cell_type": "markdown",
   "metadata": {},
   "source": [
    "An obvious seasonal pattern with an apparent upward trend. There appears to be no cyclical behavior."
   ]
  },
  {
   "cell_type": "code",
   "execution_count": null,
   "metadata": {},
   "outputs": [],
   "source": [
    "plt.figure(figsize=(16, 8))\n",
    "plt.plot(df.index, df['monthly_min_wage'])\n",
    "if plot_years:\n",
    "    for x in df.index[::12]:\n",
    "        plt.axvline(x=x, color='black', linestyle='dashed', linewidth=1.2, alpha=0.9, label='axvline - full height')\n",
    "plt.title(\"Minimum wage\")\n",
    "plt.xlabel(\"Date\")\n",
    "plt.ylabel(\"Minimum monthly wage [Kč]\");"
   ]
  },
  {
   "cell_type": "markdown",
   "metadata": {},
   "source": [
    "There is an obvious upward trend with a seasonal pattern in years since 2015. There appears to be no cyclical behavior."
   ]
  },
  {
   "cell_type": "code",
   "execution_count": null,
   "metadata": {},
   "outputs": [],
   "source": [
    "plt.figure(figsize=(16, 8))\n",
    "plt.plot(df.index, df['monthly_inflation_rate_wrt_last_year'])\n",
    "if plot_years:\n",
    "    for x in df.index[::12]:\n",
    "        plt.axvline(x=x, color='black', linestyle='dashed', linewidth=1.2, alpha=0.9, label='axvline - full height')\n",
    "plt.title(\"Inflation\")\n",
    "plt.xlabel(\"Date\")\n",
    "plt.ylabel(\"Inflation rate wrt last year [%]\");"
   ]
  },
  {
   "cell_type": "markdown",
   "metadata": {},
   "source": [
    "In regard to inflation there seems to be some cyclical pattern present with a period of about 4 years with no trend nor seasonal behavior. There is a big spike in inflation in years since 2021."
   ]
  },
  {
   "cell_type": "code",
   "execution_count": null,
   "metadata": {},
   "outputs": [],
   "source": [
    "plt.figure(figsize=(16, 8))\n",
    "plt.plot(df.index, df['reer'])\n",
    "plt.title(\"Real effective exchange rate\")\n",
    "if plot_years:\n",
    "    for x in df.index[::12]:\n",
    "        plt.axvline(x=x, color='black', linestyle='dashed', linewidth=1.2, alpha=0.9, label='axvline - full height')\n",
    "plt.xlabel(\"Date\")\n",
    "plt.ylabel(\"REER\");"
   ]
  },
  {
   "cell_type": "markdown",
   "metadata": {},
   "source": [
    "There is no seasonal pattern in the development of REER, however, there seems to be an overall upward trend. There are no clear cycles in the observed time period. "
   ]
  },
  {
   "cell_type": "code",
   "execution_count": null,
   "metadata": {},
   "outputs": [],
   "source": [
    "plt.figure(figsize=(16, 8))\n",
    "plt.plot(df.index, df['avg_energy_price'])\n",
    "if plot_years:\n",
    "    for x in df.index[::12]:\n",
    "        plt.axvline(x=x, color='black', linestyle='dashed', linewidth=1.2, alpha=0.9, label='axvline - full height')\n",
    "plt.title(\"Average electricity price\")\n",
    "plt.xlabel(\"Date\")\n",
    "plt.ylabel(\"Avg electricity price [USD / 1MWh]\");"
   ]
  },
  {
   "cell_type": "markdown",
   "metadata": {},
   "source": [
    "There is no evident trend in electricity prices, nor any cyclical or seasonal patterns. There is a big spike in prices in 2022 and 2023. "
   ]
  },
  {
   "cell_type": "code",
   "execution_count": null,
   "metadata": {},
   "outputs": [],
   "source": [
    "plt.figure(figsize=(16, 8))\n",
    "plt.plot(df.index, df['avg_gasoline_price'])\n",
    "if plot_years:\n",
    "    for x in df.index[::12]:\n",
    "        plt.axvline(x=x, color='black', linestyle='dashed', linewidth=1.2, alpha=0.9, label='axvline - full height')\n",
    "plt.title(\"Average gasoline price\")\n",
    "plt.xlabel(\"Date\")\n",
    "plt.ylabel(\"Avg gasoline price [USD / 1l]\");"
   ]
  },
  {
   "cell_type": "markdown",
   "metadata": {},
   "source": [
    "There are no seasonal effects on the price of gasoline. There also appears to be no trend. There might be a cyclical pattern with a period of about 6 years, however, the observed time period is not long enough to be completely sure. "
   ]
  },
  {
   "cell_type": "code",
   "execution_count": null,
   "metadata": {},
   "outputs": [],
   "source": [
    "plt.figure(figsize=(16, 8))\n",
    "plt.plot(df.index, df['avg_natural_gas_price'])\n",
    "if plot_years:\n",
    "    for x in df.index[::12]:\n",
    "        plt.axvline(x=x, color='black', linestyle='dashed', linewidth=1.2, alpha=0.9, label='axvline - full height')\n",
    "plt.title(\"Average natural gas price\")\n",
    "plt.xlabel(\"Date\")\n",
    "plt.ylabel(\"Avg gasoline price [USD / 1MMBtu]\");"
   ]
  },
  {
   "cell_type": "markdown",
   "metadata": {},
   "source": [
    "There is a cyclical pattern with a period of about 4 years. The development of natural gas prices displays no trend, nor any apparent seasonal patterns. There is a big spike in natrual gas price in years 2022, and 2023. "
   ]
  },
  {
   "cell_type": "code",
   "execution_count": null,
   "outputs": [],
   "source": [
    "plt.figure(figsize=(16, 8))\n",
    "plt.plot(df.index, df['general_thefts'])\n",
    "if plot_years:\n",
    "    for x in df.index[::12]:\n",
    "        plt.axvline(x=x, color='black', linestyle='dashed', linewidth=1.2, alpha=0.9, label='axvline - full height')\n",
    "plt.title(\"Common thefts\")\n",
    "plt.xlabel(\"Date\")\n",
    "plt.ylabel(\"Number of thefts\");"
   ],
   "metadata": {
    "collapsed": false
   }
  },
  {
   "cell_type": "markdown",
   "metadata": {},
   "source": [
    "The number of thefts displays a strong seasonal dependency with a downward trend. There are no perceivable cycles in the observed time period."
   ]
  },
  {
   "cell_type": "code",
   "execution_count": null,
   "metadata": {},
   "outputs": [],
   "source": [
    "plt.figure(figsize=(16, 8))\n",
    "plt.plot(df.index, df['break_in_thefts'])\n",
    "if plot_years:\n",
    "    for x in df.index[::12]:\n",
    "        plt.axvline(x=x, color='black', linestyle='dashed', linewidth=1.2, alpha=0.9, label='axvline - full height')\n",
    "plt.title(\"Break ins\")\n",
    "plt.xlabel(\"Date\")\n",
    "plt.ylabel(\"Number of break ins\");"
   ]
  },
  {
   "cell_type": "markdown",
   "metadata": {},
   "source": [
    "There appears to be some seasonal pattern in terms of number of break ins. There are no perceivable cycles in the observed time period. The overall development exhibits a downard trend."
   ]
  },
  {
   "cell_type": "code",
   "execution_count": null,
   "outputs": [],
   "source": [
    "plt.figure(figsize=(16, 8))\n",
    "plt.plot(df.index, df['bilance'])\n",
    "if plot_years:\n",
    "    for x in df.index[::12]:\n",
    "        plt.axvline(x=x, color='black', linestyle='dashed', linewidth=1.2, alpha=0.9, label='axvline - full height')\n",
    "plt.title(\"I don't understand this one\")\n",
    "plt.xlabel(\"Date\")\n",
    "plt.ylabel(\"Import/export balance\");"
   ],
   "metadata": {
    "collapsed": false
   }
  },
  {
   "cell_type": "markdown",
   "source": [
    "The balance is close to constant with no obvious or marginal upward or downward trend; major spikes in certain years are attributed to impactful socioeconomic events."
   ],
   "metadata": {
    "collapsed": false
   }
  },
  {
   "cell_type": "code",
   "execution_count": null,
   "outputs": [],
   "source": [
    "plt.figure(figsize=(16, 8))\n",
    "plt.plot(df.index, df['uchazeciOZamestnaniUoZ'], label='Overall')\n",
    "plt.plot(df.index, df['uchazeciOZamestnaniUoZZeny'], label='Women')\n",
    "plt.legend()\n",
    "if plot_years:\n",
    "    for x in df.index[::12]:\n",
    "        plt.axvline(x=x, color='black', linestyle='dashed', linewidth=1.2, alpha=0.9, label='axvline - full height')\n",
    "plt.title(\"Jobseekers\")\n",
    "plt.xlabel(\"Date\")\n",
    "plt.ylabel(\"Number of jobseekers\");"
   ],
   "metadata": {
    "collapsed": false
   }
  },
  {
   "cell_type": "markdown",
   "source": [
    "Strong seasonal dependency with a downward trend can be observed; trend was interrupted in 2020, which we attribute to the start of the global pandemic, COVID-19. Another hike is present in the recent data - 2022 saw an increase. That we attribute to the heightened refugee immigration stemming from the Russian-Ukrainian war."
   ],
   "metadata": {
    "collapsed": false
   }
  },
  {
   "cell_type": "code",
   "execution_count": null,
   "outputs": [],
   "source": [
    "plt.figure(figsize=(16, 8))\n",
    "plt.plot(df.index, df['noveHlaseniUchazeci'])\n",
    "if plot_years:\n",
    "    for x in df.index[::12]:\n",
    "        plt.axvline(x=x, color='black', linestyle='dashed', linewidth=1.2, alpha=0.9, label='axvline - full height')\n",
    "plt.title(\"Newly announced jobseekers\")\n",
    "plt.xlabel(\"Date\")\n",
    "plt.ylabel(\"Number of newly announced jobseekers\");"
   ],
   "metadata": {
    "collapsed": false
   }
  },
  {
   "cell_type": "markdown",
   "source": [
    "Similar to the previous graph, there is both a seasonal pattern and a downward pattern. The data here increases our confidence in our hypothesized cause of the recent upward tendency - 2020 had many waves of newly announced jobseekers, which corresponds to the true events, where many business closed down throughout the year, letting go all of their employees. 2022 has two big waves instead at its second half, which is around the time the waves of refugees arrived."
   ],
   "metadata": {
    "collapsed": false
   }
  },
  {
   "cell_type": "code",
   "execution_count": null,
   "outputs": [],
   "source": [
    "plt.figure(figsize=(16, 8))\n",
    "plt.plot(df.index, df['noveHlasenaAUvolnenaVPM'], label='Newly announced and freed open positions')\n",
    "plt.plot(df.index, df['obsazenaAZrusenaVPM'], label='Already taken and closed open positions')\n",
    "plt.legend()\n",
    "if plot_years:\n",
    "    for x in df.index[::12]:\n",
    "        plt.axvline(x=x, color='black', linestyle='dashed', linewidth=1.2, alpha=0.9, label='axvline - full height')\n",
    "plt.title(\"Open positions\")\n",
    "plt.xlabel(\"Date\")\n",
    "plt.ylabel(\"Number of positions\");"
   ],
   "metadata": {
    "collapsed": false
   }
  },
  {
   "cell_type": "markdown",
   "source": [
    "As expected, these two predictors have inverse characteristics - there is an upward trend. Seasonal pattern is not as prominent here, however. Spikes in the data correspond with what was previously established. "
   ],
   "metadata": {
    "collapsed": false
   }
  },
  {
   "cell_type": "code",
   "execution_count": null,
   "outputs": [],
   "source": [
    "plt.figure(figsize=(16, 8))\n",
    "plt.plot(df.index, df['absolventiSkolAMladistvi'])\n",
    "if plot_years:\n",
    "    for x in df.index[::12]:\n",
    "        plt.axvline(x=x, color='black', linestyle='dashed', linewidth=1.2, alpha=0.9, label='axvline - full height')\n",
    "plt.title(\"Job-seeking students and youth\")\n",
    "plt.xlabel(\"Date\")\n",
    "plt.ylabel(\"Number of job-seeking students and youth\");"
   ],
   "metadata": {
    "collapsed": false
   }
  },
  {
   "cell_type": "markdown",
   "source": [
    "Covid seems to have affected this group as well. The war, however, has not impacted the data as much. As the rest, there is a downward trend, with some hikes in most recent years due to economic instabilities. Seasonal pattern is present."
   ],
   "metadata": {
    "collapsed": false
   }
  },
  {
   "cell_type": "code",
   "execution_count": null,
   "outputs": [],
   "source": [
    "plt.figure(figsize=(16, 8))\n",
    "plt.plot(df.index[158:], df['z_do_65'][158:], label='Women')\n",
    "plt.plot(df.index[158:], df['m_do_65'][158:], label='Men')\n",
    "plt.legend()\n",
    "if plot_years:\n",
    "    for x in df.index[158::12]:\n",
    "        plt.axvline(x=x, color='black', linestyle='dashed', linewidth=1.2, alpha=0.9, label='axvline - full height')\n",
    "plt.title(\"Ukranian refugees\")\n",
    "plt.xlabel(\"Date\")\n",
    "plt.ylabel(\"Number of students and youth\");"
   ],
   "metadata": {
    "collapsed": false
   }
  },
  {
   "cell_type": "markdown",
   "source": [
    "The plot shows a major influx of refugees at the start of 2022, which supports our previous claims. Due to the reasons of migration, the vast majority of migrants are women."
   ],
   "metadata": {
    "collapsed": false
   }
  },
  {
   "cell_type": "markdown",
   "metadata": {},
   "source": [
    "# TODO FOR SLEEKY VIKI\n",
    "\n",
    "'bilance', 'uchazeciOZamestnaniUoZ',\n",
    "'noveHlaseniUchazeci', 'noveHlasenaAUvolnenaVPM', 'obsazenaAZrusenaVPM',\n",
    "'absolventiSkolAMladistvi', 'z_do_65_w19', 'm_do_65_w19', 'celkem_w19'"
   ]
  },
  {
   "cell_type": "markdown",
   "metadata": {},
   "source": [
    "## Seasonal plots\n",
    "\n",
    "Seasonal plots for features which displayed signs of seasonal patterns."
   ]
  },
  {
   "cell_type": "code",
   "execution_count": null,
   "metadata": {},
   "outputs": [],
   "source": [
    "def get_values(colum):\n",
    "    ret = dict()\n",
    "    for year in range(2009, 2024):\n",
    "        dates = list(filter(lambda x: x.year == year, df.index))\n",
    "        vals = df.loc[dates][colum].to_numpy()\n",
    "        months = list(map(lambda x: x.month, dates))\n",
    "        ret[year] = [months, vals]\n",
    "    return ret"
   ]
  },
  {
   "cell_type": "code",
   "execution_count": null,
   "metadata": {},
   "outputs": [],
   "source": [
    "plt.figure(figsize=(16, 8))\n",
    "for key, arrs in get_values('monthly_min_wage').items():\n",
    "    months = arrs[0]\n",
    "    values = arrs[1]\n",
    "    plt.plot(months, values, label=key)\n",
    "plt.title(\"Minimum wage\")\n",
    "plt.xlabel(\"Month\")\n",
    "plt.ylabel(\"Minimum monthly wage [Kč]\");\n",
    "plt.legend(bbox_to_anchor=(1.04, 1), loc=\"upper left\")\n",
    "plt.show();"
   ]
  },
  {
   "cell_type": "code",
   "execution_count": null,
   "metadata": {},
   "outputs": [],
   "source": [
    "plt.figure(figsize=(16, 8))\n",
    "for key, arrs in get_values('avg_monthly_salary').items():\n",
    "    months = arrs[0]\n",
    "    values = arrs[1]\n",
    "    plt.plot(months, values, label=key)\n",
    "plt.title(\"Average wage\")\n",
    "plt.xlabel(\"Month\")\n",
    "plt.ylabel(\"Average monthly wage [Kč]\");\n",
    "plt.legend(bbox_to_anchor=(1.04, 1), loc=\"upper left\")\n",
    "plt.show();"
   ]
  },
  {
   "cell_type": "code",
   "execution_count": null,
   "metadata": {},
   "outputs": [],
   "source": [
    "plt.figure(figsize=(16, 8))\n",
    "for key, arrs in get_values('general_thefts').items():\n",
    "    months = arrs[0]\n",
    "    values = arrs[1]\n",
    "    plt.plot(months, values, label=key)\n",
    "plt.title(\"Common thefts\")\n",
    "plt.xlabel(\"Month\")\n",
    "plt.ylabel(\"Number of thefts\");\n",
    "plt.legend(bbox_to_anchor=(1.04, 1), loc=\"upper left\")\n",
    "plt.show();"
   ]
  },
  {
   "cell_type": "code",
   "execution_count": null,
   "metadata": {},
   "outputs": [],
   "source": [
    "plt.figure(figsize=(16, 8))\n",
    "for key, arrs in get_values('break_in_thefts').items():\n",
    "    months = arrs[0]\n",
    "    values = arrs[1]\n",
    "    plt.plot(months, values, label=key)\n",
    "plt.title(\"Break ins\")\n",
    "plt.xlabel(\"Month\")\n",
    "plt.ylabel(\"Number of break ins\")\n",
    "plt.legend(bbox_to_anchor=(1.04, 1), loc=\"upper left\")\n",
    "plt.show();"
   ]
  },
  {
   "cell_type": "code",
   "execution_count": null,
   "outputs": [],
   "source": [
    "plt.figure(figsize=(16, 8))\n",
    "for key, arrs in get_values('bilance').items():\n",
    "    months = arrs[0]\n",
    "    values = arrs[1]\n",
    "    plt.plot(months, values, label=key)\n",
    "plt.title(\"Balance\")\n",
    "plt.xlabel(\"Month\")\n",
    "plt.ylabel(\"Balance in millions\")\n",
    "plt.legend(bbox_to_anchor=(1.04, 1), loc=\"upper left\")\n",
    "plt.show();"
   ],
   "metadata": {
    "collapsed": false
   }
  },
  {
   "cell_type": "code",
   "execution_count": null,
   "outputs": [],
   "source": [
    "plt.figure(figsize=(16, 8))\n",
    "for key, arrs in get_values('uchazeciOZamestnaniUoZ').items():\n",
    "    months = arrs[0]\n",
    "    values = arrs[1]\n",
    "    plt.plot(months, values, label=key)\n",
    "plt.title(\"Jobseekers\")\n",
    "plt.xlabel(\"Month\")\n",
    "plt.ylabel(\"Number of jobseekers\")\n",
    "plt.legend(bbox_to_anchor=(1.04, 1), loc=\"upper left\")\n",
    "plt.show();"
   ],
   "metadata": {
    "collapsed": false
   }
  },
  {
   "cell_type": "code",
   "execution_count": null,
   "outputs": [],
   "source": [
    "plt.figure(figsize=(16, 8))\n",
    "for key, arrs in get_values('noveHlaseniUchazeci').items():\n",
    "    months = arrs[0]\n",
    "    values = arrs[1]\n",
    "    plt.plot(months, values, label=key)\n",
    "plt.title(\"Newly announced jobseekers\")\n",
    "plt.xlabel(\"Month\")\n",
    "plt.ylabel(\"Number of newly announced jobseekers\")\n",
    "plt.legend(bbox_to_anchor=(1.04, 1), loc=\"upper left\")\n",
    "plt.show();"
   ],
   "metadata": {
    "collapsed": false
   }
  },
  {
   "cell_type": "code",
   "execution_count": null,
   "outputs": [],
   "source": [
    "plt.figure(figsize=(16, 8))\n",
    "for key, arrs in get_values('noveHlasenaAUvolnenaVPM').items():\n",
    "    months = arrs[0]\n",
    "    values = arrs[1]\n",
    "    plt.plot(months, values, label=key)\n",
    "plt.title(\"Newly announced and freed open positions\")\n",
    "plt.xlabel(\"Month\")\n",
    "plt.ylabel(\"Number of newly announced and freed open positions\")\n",
    "plt.legend(bbox_to_anchor=(1.04, 1), loc=\"upper left\")\n",
    "plt.show();"
   ],
   "metadata": {
    "collapsed": false
   }
  },
  {
   "cell_type": "code",
   "execution_count": null,
   "outputs": [],
   "source": [
    "plt.figure(figsize=(16, 8))\n",
    "for key, arrs in get_values('obsazenaAZrusenaVPM').items():\n",
    "    months = arrs[0]\n",
    "    values = arrs[1]\n",
    "    plt.plot(months, values, label=key)\n",
    "plt.title(\"Already taken and closed open positions\")\n",
    "plt.xlabel(\"Month\")\n",
    "plt.ylabel(\"Number of already taken and closed open positions\")\n",
    "plt.legend(bbox_to_anchor=(1.04, 1), loc=\"upper left\")\n",
    "plt.show();"
   ],
   "metadata": {
    "collapsed": false
   }
  },
  {
   "cell_type": "code",
   "execution_count": null,
   "outputs": [],
   "source": [
    "plt.figure(figsize=(16, 8))\n",
    "for key, arrs in get_values('absolventiSkolAMladistvi').items():\n",
    "    months = arrs[0]\n",
    "    values = arrs[1]\n",
    "    plt.plot(months, values, label=key)\n",
    "plt.title(\"Job-seeking students and youth\")\n",
    "plt.xlabel(\"Month\")\n",
    "plt.ylabel(\"Number of job-seeking students and youth\")\n",
    "plt.legend(bbox_to_anchor=(1.04, 1), loc=\"upper left\")\n",
    "plt.show();"
   ],
   "metadata": {
    "collapsed": false
   }
  },
  {
   "cell_type": "code",
   "execution_count": null,
   "outputs": [],
   "source": [
    "plt.figure(figsize=(16, 8))\n",
    "for key, arrs in get_values('z_do_65').items():\n",
    "    months = arrs[0]\n",
    "    values = arrs[1]\n",
    "    plt.plot(months, values, label=key)\n",
    "plt.title(\"Ukrainian female refugees\")\n",
    "plt.xlabel(\"Month\")\n",
    "plt.ylabel(\"Number of ukrainian female refugees\")\n",
    "plt.legend(bbox_to_anchor=(1.04, 1), loc=\"upper left\")\n",
    "plt.show();"
   ],
   "metadata": {
    "collapsed": false
   }
  },
  {
   "cell_type": "code",
   "execution_count": null,
   "outputs": [],
   "source": [
    "plt.figure(figsize=(16, 8))\n",
    "for key, arrs in get_values('m_do_65').items():\n",
    "    months = arrs[0]\n",
    "    values = arrs[1]\n",
    "    plt.plot(months, values, label=key)\n",
    "plt.title(\"Ukrainian male refugees\")\n",
    "plt.xlabel(\"Month\")\n",
    "plt.ylabel(\"Number of ukrainian male refugees\")\n",
    "plt.legend(bbox_to_anchor=(1.04, 1), loc=\"upper left\")\n",
    "plt.show();"
   ],
   "metadata": {
    "collapsed": false
   }
  }
 ],
 "metadata": {
  "kernelspec": {
   "display_name": "Python 3",
   "language": "python",
   "name": "python3"
  },
  "language_info": {
   "codemirror_mode": {
    "name": "ipython",
    "version": 3
   },
   "file_extension": ".py",
   "mimetype": "text/x-python",
   "name": "python",
   "nbconvert_exporter": "python",
   "pygments_lexer": "ipython3",
   "version": "3.8.10"
  }
 },
 "nbformat": 4,
 "nbformat_minor": 2
}
