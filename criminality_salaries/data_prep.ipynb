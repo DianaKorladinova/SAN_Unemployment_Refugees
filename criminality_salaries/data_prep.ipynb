{
 "cells": [
  {
   "cell_type": "code",
   "execution_count": 1,
   "metadata": {
    "collapsed": true
   },
   "outputs": [],
   "source": [
    "import pandas as pd\n",
    "import numpy as np"
   ]
  },
  {
   "cell_type": "code",
   "execution_count": 2,
   "outputs": [],
   "source": [
    "years = [\"2008\", \"2009\", \"2010\", \"2011\", \"2012\", \"2013\", \"2014\", \"2015\", \"2016\", \"2017\", \"2018\", \"2019\", \"2020\", \"2021\",\n",
    "         \"2022\", \"2023\"]\n",
    "\n",
    "months_czech = [\"leden\", \"unor\", \"brezen\", \"duben\", \"kveten\", \"cerven\", \"cervenec\", \"srpen\", \"zari\", \"rijen\",\n",
    "                \"listopad\", \"prosinec\"]\n",
    "\n",
    "months_nums = [\n",
    "    \"01\",  # January\n",
    "    \"02\",  # February\n",
    "    \"03\",  # March\n",
    "    \"04\",  # April\n",
    "    \"05\",  # May\n",
    "    \"06\",  # June\n",
    "    \"07\",  # July\n",
    "    \"08\",  # August\n",
    "    \"09\",  # September\n",
    "    \"10\",  # October\n",
    "    \"11\",  # November\n",
    "    \"12\"  # December\n",
    "]\n",
    "\n",
    "month2days = {\n",
    "    \"01\": 31,  # January\n",
    "    \"02\": 28,  # February (29 in leap years)\n",
    "    \"03\": 31,  # March\n",
    "    \"04\": 30,  # April\n",
    "    \"05\": 31,  # May\n",
    "    \"06\": 30,  # June\n",
    "    \"07\": 31,  # July\n",
    "    \"08\": 31,  # August\n",
    "    \"09\": 30,  # September\n",
    "    \"10\": 31,  # October\n",
    "    \"11\": 30,  # November\n",
    "    \"12\": 31,  # December\n",
    "}\n",
    "\n",
    "NUTS3_name2abbrev = {\n",
    "    \"Praha\": \"PHA\",\n",
    "    \"Středočeský\": \"STC\",\n",
    "    \"Jihočeský\": \"JHC\",\n",
    "    \"Plzeňský\": \"PLK\",\n",
    "    \"Karlovarský\": \"KVK\",\n",
    "    \"Ústecký\": \"ULK\",\n",
    "    \"Liberecký\": \"LBK\",\n",
    "    \"Královéhradecký\": \"HKK\",\n",
    "    \"Pardubický\": \"PAK\",\n",
    "    \"Vysočina\": \"VYS\",\n",
    "    \"Jihomoravský\": \"JHM\",\n",
    "    \"Olomoucký\": \"OLK\",\n",
    "    \"Moravskoslezský\": \"MSK\",\n",
    "    \"Zlínský\": \"ZLK\",\n",
    "}\n",
    "\n",
    "kraje = [\"PHA\",\n",
    "         \"STC\",\n",
    "         \"JHC\",\n",
    "         \"PLK\",\n",
    "         \"KVK\",\n",
    "         \"ULK\",\n",
    "         \"LBK\",\n",
    "         \"HKK\",\n",
    "         \"PAK\",\n",
    "         \"VYS\",\n",
    "         \"JHM\",\n",
    "         \"OLK\",\n",
    "         \"MSK\",\n",
    "         \"ZLK\", ]\n",
    "\n",
    "# Salaries\n",
    "region_codes_map = {\n",
    "    '3018': 'PHA',\n",
    "    '3026': 'STC',\n",
    "    '3034': 'JHC',\n",
    "    '3042': 'PLK',\n",
    "    '3051': 'KVK',\n",
    "    '3115': 'JHM',\n",
    "    '3107': 'VYS',\n",
    "    '3085': 'HKK',\n",
    "    '3077': 'LBK',\n",
    "    '3140': 'MSK',\n",
    "    '3123': 'OLK',\n",
    "    '3093': 'PAK',\n",
    "    '3069': 'ULK',\n",
    "    '3131': 'ZLK'\n",
    "}\n",
    "region_code = ['3018', '3034', '3115', '3051', '3107', '3085', '3077', '3140', '3123', '3093', '3042', '3026', '3069',\n",
    "               '3131']\n",
    "\n",
    "quarters = {\n",
    "    \"Q1\": [1, 2, 3],\n",
    "    \"Q2\": [4, 5, 6],\n",
    "    \"Q3\": [7, 8, 9],\n",
    "    \"Q4\": [10, 11, 12],\n",
    "}"
   ],
   "metadata": {
    "collapsed": false
   }
  },
  {
   "cell_type": "markdown",
   "source": [
    "## Criminality Dataset"
   ],
   "metadata": {
    "collapsed": false
   }
  },
  {
   "cell_type": "code",
   "execution_count": 214,
   "outputs": [],
   "source": [
    "years_1 = [\"2009\", \"2010\", \"2011\", \"2012\", \"2013\", \"2014\"]\n",
    "# idx_1 = [[97, 80], [97,80], [97,80]]\n",
    "idx_1 = {\n",
    "    \"2009\" : [92,75],\n",
    "    \"2010\" : [97, 80],\n",
    "    \"2011\" : [97, 80],\n",
    "    \"2012\" : [97, 80],\n",
    "    \"2013\" : [97, 80],\n",
    "    \"2014\" : [97,80]\n",
    "}\n",
    "years_2 = [\"2016\", \"2017\", \"2018\", \"2019\", \"2020\"]\n",
    "idx_2 = [\"Krádeže prosté\",\"Krádeže vloupáním\" ]  # correct row numbers\n",
    "years_3 = [\"2021\", \"2022\", \"2023\"]\n",
    "idx_3 = ['krádeže prosté', 'krádeže vloupáním']"
   ],
   "metadata": {
    "collapsed": false
   }
  },
  {
   "cell_type": "code",
   "execution_count": 227,
   "outputs": [],
   "source": [
    "def criminality_rate_new(months_czech, years, idx):\n",
    "    crim_df = pd.DataFrame(columns=('month', 'year', 'kraj', 'general_thefts', 'break_in_thefts'))\n",
    "    count = 0\n",
    "    search_value_1 = idx[0]\n",
    "    search_value_2 = idx[1]\n",
    "    column_to_search = 'Unnamed: 1'\n",
    "    for year in years:\n",
    "        # remember the last month for every kraj - cummulative numbers\n",
    "        last_month_gen_tft = [0] * len(kraje)\n",
    "        last_month_brk_in = [0] * len(kraje)\n",
    "        for m in range(0, len(months_czech)):\n",
    "            path = f\"https://www.policie.cz/soubor/{year}-{months_nums[m]}-{months_czech[m]}-sest-01a-xlsx.aspx\"\n",
    "            try:\n",
    "                df = pd.read_excel(path, sheet_name=None)  #loop through all sheets\n",
    "                curr_kraj = 0\n",
    "                if (int(year) >= 2019 and int(year) <= 2020) or (int(year) == 2018 and int(months_nums[m]) >= 3):\n",
    "                    search_value_1 = \"krádeže prosté\"\n",
    "                    search_value_2 = \"krádeže vloupáním\"\n",
    "                for x in df:  # go through the sheets\n",
    "                    if x in NUTS3_name2abbrev:\n",
    "                        # print(df[x].columns)\n",
    "                        gen_tft = df[x][df[x][column_to_search] == search_value_1]\n",
    "                        brk_in = df[x][df[x][column_to_search] == search_value_2]\n",
    "                        dict = {\n",
    "                            'month': int(months_nums[m]),\n",
    "                            'year': int(year),\n",
    "                            'kraj': NUTS3_name2abbrev.get(x),\n",
    "                            'general_thefts': gen_tft[\"Unnamed: 2\"].values[0] - last_month_gen_tft[curr_kraj],\n",
    "                            'break_in_thefts': brk_in[\"Unnamed: 2\"].values[0] - last_month_brk_in[curr_kraj]\n",
    "                        }\n",
    "                        # print(\"Kraj: \", NUTS3_name2abbrev.get(x), \" momnth: \", months_nums[m])\n",
    "                        # print(\"Doc: \", gen_tft[\"Unnamed: 2\"] , \" last month: \", last_month_gen_tft[curr_kraj])\n",
    "                        crim_df.loc[count] = dict\n",
    "                        last_month_gen_tft[curr_kraj] = gen_tft[\"Unnamed: 2\"].values[0]\n",
    "                        last_month_brk_in[curr_kraj] = brk_in[\"Unnamed: 2\"].values[0]\n",
    "                        # print(\"Saving: \", gen_tft[\"Unnamed: 2\"] )\n",
    "                        count += 1\n",
    "                        curr_kraj += 1\n",
    "                # count += len(df) # number of sheets\n",
    "            except Exception as e:\n",
    "                print(\"error:\", e, \" \", \" \", months_czech[m], \" \", year)\n",
    "    return crim_df"
   ],
   "metadata": {
    "collapsed": false
   }
  },
  {
   "cell_type": "code",
   "execution_count": 228,
   "outputs": [
    {
     "name": "stdout",
     "output_type": "stream",
     "text": [
      "error: HTTP Error 404: Not Found     listopad   2023\n",
      "error: HTTP Error 404: Not Found     prosinec   2023\n"
     ]
    },
    {
     "data": {
      "text/plain": "     month  year kraj  general_thefts  break_in_thefts\n0        1  2021  PHA             374              826\n1        1  2021  STC             197              301\n2        1  2021  JHC              55               59\n3        1  2021  PLK              91              134\n4        1  2021  ULK             180              220\n..     ...   ...  ...             ...              ...\n471     10  2023  ZLK              93               35\n472     10  2023  VYS              77               49\n473     10  2023  PAK              72               38\n474     10  2023  LBK              84               89\n475     10  2023  KVK              93               65\n\n[476 rows x 5 columns]",
      "text/html": "<div>\n<style scoped>\n    .dataframe tbody tr th:only-of-type {\n        vertical-align: middle;\n    }\n\n    .dataframe tbody tr th {\n        vertical-align: top;\n    }\n\n    .dataframe thead th {\n        text-align: right;\n    }\n</style>\n<table border=\"1\" class=\"dataframe\">\n  <thead>\n    <tr style=\"text-align: right;\">\n      <th></th>\n      <th>month</th>\n      <th>year</th>\n      <th>kraj</th>\n      <th>general_thefts</th>\n      <th>break_in_thefts</th>\n    </tr>\n  </thead>\n  <tbody>\n    <tr>\n      <th>0</th>\n      <td>1</td>\n      <td>2021</td>\n      <td>PHA</td>\n      <td>374</td>\n      <td>826</td>\n    </tr>\n    <tr>\n      <th>1</th>\n      <td>1</td>\n      <td>2021</td>\n      <td>STC</td>\n      <td>197</td>\n      <td>301</td>\n    </tr>\n    <tr>\n      <th>2</th>\n      <td>1</td>\n      <td>2021</td>\n      <td>JHC</td>\n      <td>55</td>\n      <td>59</td>\n    </tr>\n    <tr>\n      <th>3</th>\n      <td>1</td>\n      <td>2021</td>\n      <td>PLK</td>\n      <td>91</td>\n      <td>134</td>\n    </tr>\n    <tr>\n      <th>4</th>\n      <td>1</td>\n      <td>2021</td>\n      <td>ULK</td>\n      <td>180</td>\n      <td>220</td>\n    </tr>\n    <tr>\n      <th>...</th>\n      <td>...</td>\n      <td>...</td>\n      <td>...</td>\n      <td>...</td>\n      <td>...</td>\n    </tr>\n    <tr>\n      <th>471</th>\n      <td>10</td>\n      <td>2023</td>\n      <td>ZLK</td>\n      <td>93</td>\n      <td>35</td>\n    </tr>\n    <tr>\n      <th>472</th>\n      <td>10</td>\n      <td>2023</td>\n      <td>VYS</td>\n      <td>77</td>\n      <td>49</td>\n    </tr>\n    <tr>\n      <th>473</th>\n      <td>10</td>\n      <td>2023</td>\n      <td>PAK</td>\n      <td>72</td>\n      <td>38</td>\n    </tr>\n    <tr>\n      <th>474</th>\n      <td>10</td>\n      <td>2023</td>\n      <td>LBK</td>\n      <td>84</td>\n      <td>89</td>\n    </tr>\n    <tr>\n      <th>475</th>\n      <td>10</td>\n      <td>2023</td>\n      <td>KVK</td>\n      <td>93</td>\n      <td>65</td>\n    </tr>\n  </tbody>\n</table>\n<p>476 rows × 5 columns</p>\n</div>"
     },
     "execution_count": 228,
     "metadata": {},
     "output_type": "execute_result"
    }
   ],
   "source": [
    "crim_df_3 = criminality_rate_new(months_czech, years_3, idx_3)\n",
    "crim_df_3"
   ],
   "metadata": {
    "collapsed": false
   }
  },
  {
   "cell_type": "code",
   "execution_count": 229,
   "outputs": [
    {
     "name": "stdout",
     "output_type": "stream",
     "text": [
      "error: <urlopen error [Errno 110] Connection timed out>     listopad   2019\n"
     ]
    },
    {
     "data": {
      "text/plain": "     month  year kraj  general_thefts  break_in_thefts\n0        1  2016  PHA            2395              671\n1        1  2016  STC             483              319\n2        1  2016  JHC             194              132\n3        1  2016  PLK             236              107\n4        1  2016  ULK             499              219\n..     ...   ...  ...             ...              ...\n821     12  2020  ZLK              34               29\n822     12  2020  VYS              40               33\n823     12  2020  PAK              44               31\n824     12  2020  LBK              65               44\n825     12  2020  KVK              42               36\n\n[826 rows x 5 columns]",
      "text/html": "<div>\n<style scoped>\n    .dataframe tbody tr th:only-of-type {\n        vertical-align: middle;\n    }\n\n    .dataframe tbody tr th {\n        vertical-align: top;\n    }\n\n    .dataframe thead th {\n        text-align: right;\n    }\n</style>\n<table border=\"1\" class=\"dataframe\">\n  <thead>\n    <tr style=\"text-align: right;\">\n      <th></th>\n      <th>month</th>\n      <th>year</th>\n      <th>kraj</th>\n      <th>general_thefts</th>\n      <th>break_in_thefts</th>\n    </tr>\n  </thead>\n  <tbody>\n    <tr>\n      <th>0</th>\n      <td>1</td>\n      <td>2016</td>\n      <td>PHA</td>\n      <td>2395</td>\n      <td>671</td>\n    </tr>\n    <tr>\n      <th>1</th>\n      <td>1</td>\n      <td>2016</td>\n      <td>STC</td>\n      <td>483</td>\n      <td>319</td>\n    </tr>\n    <tr>\n      <th>2</th>\n      <td>1</td>\n      <td>2016</td>\n      <td>JHC</td>\n      <td>194</td>\n      <td>132</td>\n    </tr>\n    <tr>\n      <th>3</th>\n      <td>1</td>\n      <td>2016</td>\n      <td>PLK</td>\n      <td>236</td>\n      <td>107</td>\n    </tr>\n    <tr>\n      <th>4</th>\n      <td>1</td>\n      <td>2016</td>\n      <td>ULK</td>\n      <td>499</td>\n      <td>219</td>\n    </tr>\n    <tr>\n      <th>...</th>\n      <td>...</td>\n      <td>...</td>\n      <td>...</td>\n      <td>...</td>\n      <td>...</td>\n    </tr>\n    <tr>\n      <th>821</th>\n      <td>12</td>\n      <td>2020</td>\n      <td>ZLK</td>\n      <td>34</td>\n      <td>29</td>\n    </tr>\n    <tr>\n      <th>822</th>\n      <td>12</td>\n      <td>2020</td>\n      <td>VYS</td>\n      <td>40</td>\n      <td>33</td>\n    </tr>\n    <tr>\n      <th>823</th>\n      <td>12</td>\n      <td>2020</td>\n      <td>PAK</td>\n      <td>44</td>\n      <td>31</td>\n    </tr>\n    <tr>\n      <th>824</th>\n      <td>12</td>\n      <td>2020</td>\n      <td>LBK</td>\n      <td>65</td>\n      <td>44</td>\n    </tr>\n    <tr>\n      <th>825</th>\n      <td>12</td>\n      <td>2020</td>\n      <td>KVK</td>\n      <td>42</td>\n      <td>36</td>\n    </tr>\n  </tbody>\n</table>\n<p>826 rows × 5 columns</p>\n</div>"
     },
     "execution_count": 229,
     "metadata": {},
     "output_type": "execute_result"
    }
   ],
   "source": [
    "crim_df_2 = criminality_rate_new(months_czech, years_2, idx_2)\n",
    "crim_df_2"
   ],
   "metadata": {
    "collapsed": false
   }
  },
  {
   "cell_type": "code",
   "execution_count": 104,
   "outputs": [],
   "source": [
    "def criminality_rate_oldest(months_czech, years, idx):\n",
    "    crim_df = pd.DataFrame(columns=('month', 'year', 'kraj', 'general_thefts', 'break_in_thefts'))\n",
    "    count = 0\n",
    "    for year in years:\n",
    "         # remember the last month for every kraj - cummulative numbers\n",
    "        last_month_gen_tft = [0] * len(kraje)\n",
    "        last_month_brk_in = [0] * len(kraje)\n",
    "        for m in range(0, len(months_czech)):\n",
    "            days = month2days.get(months_nums[m])\n",
    "            if int(year) == 2012 and int(months_nums[m]) == 2:\n",
    "                days = \"29\"\n",
    "            paths = [f\"https://www.policie.cz/soubor/{months_nums[m]}-celkova-kriminalita-za-obdobi-od-01-01-{year}-do-{days}-{months_nums[m]}-{year}.aspx\", f\"https://www.policie.cz/soubor/statistiky-nove-cleneni-{year}-{months_nums[m]}-celkova-kriminalita-za-obdobi-od-01-01-{year}-do-{days}-{months_nums[m]}-{year}\", f\"https://www.policie.cz/soubor/2013-2014-{months_nums[m]}-celkova-kriminalita-za-obdobi-od-01-01-{year}-do-{days}-{months_nums[m]}-{year}.aspx\"]\n",
    "            for k in range(len(paths)):\n",
    "                try:\n",
    "                    df = pd.read_excel(paths[k], sheet_name=None)  #loop through all sheets\n",
    "                    first_sheet = True\n",
    "                    curr_kraj = 0\n",
    "                    for x in df:  # go through the sheets\n",
    "                        # skip the CR sheet\n",
    "                        if first_sheet:\n",
    "                            first_sheet = False\n",
    "                            continue\n",
    "                        dict = {\n",
    "                            'month': int(months_nums[m]),\n",
    "                            'year': year,\n",
    "                            'kraj': kraje[curr_kraj],\n",
    "                            'general_thefts': (df[x][\"Unnamed: 3\"]).iloc[idx.get(year)[0]] - last_month_gen_tft[curr_kraj],\n",
    "                            'break_in_thefts': (df[x][\"Unnamed: 3\"]).iloc[idx.get(year)[1]] - last_month_brk_in[curr_kraj]\n",
    "                        }\n",
    "                        # print(\"Kraj: \", kraje[curr_kraj])\n",
    "                        # print(\"doc: \",(df[x][\"Unnamed: 3\"]).iloc[idx[k][0]], \" last month: \",  last_month_brk_in[curr_kraj])\n",
    "                        crim_df.loc[count] = dict\n",
    "                        last_month_gen_tft[curr_kraj] = (df[x][\"Unnamed: 3\"]).iloc[idx.get(year)[0]]\n",
    "                        last_month_brk_in[curr_kraj] = (df[x][\"Unnamed: 3\"]).iloc[idx.get(year)[1]]\n",
    "                        count += 1\n",
    "                        curr_kraj += 1\n",
    "                except Exception as e:\n",
    "                    print(\"error:\", e, \" \", \" \", months_czech[m], \" \", year)\n",
    "    return crim_df"
   ],
   "metadata": {
    "collapsed": false
   }
  },
  {
   "cell_type": "code",
   "execution_count": 105,
   "outputs": [
    {
     "name": "stdout",
     "output_type": "stream",
     "text": [
      "error: HTTP Error 404: Not Found     leden   2009\n",
      "error: HTTP Error 404: Not Found     leden   2009\n",
      "error: HTTP Error 404: Not Found     unor   2009\n",
      "error: HTTP Error 404: Not Found     unor   2009\n",
      "error: HTTP Error 404: Not Found     brezen   2009\n",
      "error: HTTP Error 404: Not Found     brezen   2009\n",
      "error: HTTP Error 404: Not Found     duben   2009\n",
      "error: HTTP Error 404: Not Found     duben   2009\n",
      "error: HTTP Error 404: Not Found     kveten   2009\n",
      "error: HTTP Error 404: Not Found     kveten   2009\n",
      "error: HTTP Error 404: Not Found     cerven   2009\n",
      "error: HTTP Error 404: Not Found     cerven   2009\n",
      "error: HTTP Error 404: Not Found     cervenec   2009\n",
      "error: HTTP Error 404: Not Found     cervenec   2009\n",
      "error: HTTP Error 404: Not Found     srpen   2009\n",
      "error: HTTP Error 404: Not Found     srpen   2009\n",
      "error: HTTP Error 404: Not Found     zari   2009\n",
      "error: HTTP Error 404: Not Found     zari   2009\n",
      "error: HTTP Error 404: Not Found     rijen   2009\n",
      "error: HTTP Error 404: Not Found     rijen   2009\n",
      "error: HTTP Error 404: Not Found     listopad   2009\n",
      "error: HTTP Error 404: Not Found     listopad   2009\n",
      "error: HTTP Error 404: Not Found     prosinec   2009\n",
      "error: HTTP Error 404: Not Found     prosinec   2009\n",
      "error: HTTP Error 404: Not Found     leden   2010\n",
      "error: HTTP Error 404: Not Found     leden   2010\n",
      "error: HTTP Error 404: Not Found     unor   2010\n",
      "error: HTTP Error 404: Not Found     unor   2010\n",
      "error: HTTP Error 404: Not Found     brezen   2010\n",
      "error: HTTP Error 404: Not Found     brezen   2010\n",
      "error: HTTP Error 404: Not Found     duben   2010\n",
      "error: HTTP Error 404: Not Found     duben   2010\n",
      "error: HTTP Error 404: Not Found     kveten   2010\n",
      "error: HTTP Error 404: Not Found     kveten   2010\n",
      "error: HTTP Error 404: Not Found     cerven   2010\n",
      "error: HTTP Error 404: Not Found     cerven   2010\n",
      "error: HTTP Error 404: Not Found     cervenec   2010\n",
      "error: HTTP Error 404: Not Found     cervenec   2010\n",
      "error: HTTP Error 404: Not Found     srpen   2010\n",
      "error: HTTP Error 404: Not Found     srpen   2010\n",
      "error: HTTP Error 404: Not Found     zari   2010\n",
      "error: HTTP Error 404: Not Found     zari   2010\n",
      "error: <urlopen error [Errno 110] Connection timed out>     rijen   2010\n",
      "error: HTTP Error 404: Not Found     rijen   2010\n",
      "error: HTTP Error 404: Not Found     rijen   2010\n",
      "error: HTTP Error 404: Not Found     listopad   2010\n",
      "error: HTTP Error 404: Not Found     listopad   2010\n",
      "error: HTTP Error 404: Not Found     prosinec   2010\n",
      "error: HTTP Error 404: Not Found     prosinec   2010\n",
      "error: HTTP Error 404: Not Found     leden   2011\n",
      "error: HTTP Error 404: Not Found     leden   2011\n",
      "error: HTTP Error 404: Not Found     unor   2011\n",
      "error: HTTP Error 404: Not Found     unor   2011\n",
      "error: HTTP Error 404: Not Found     brezen   2011\n",
      "error: HTTP Error 404: Not Found     brezen   2011\n",
      "error: HTTP Error 404: Not Found     duben   2011\n",
      "error: HTTP Error 404: Not Found     duben   2011\n",
      "error: HTTP Error 404: Not Found     kveten   2011\n",
      "error: HTTP Error 404: Not Found     kveten   2011\n",
      "error: HTTP Error 404: Not Found     cerven   2011\n",
      "error: HTTP Error 404: Not Found     cerven   2011\n",
      "error: HTTP Error 404: Not Found     cervenec   2011\n",
      "error: HTTP Error 404: Not Found     cervenec   2011\n",
      "error: HTTP Error 404: Not Found     srpen   2011\n",
      "error: HTTP Error 404: Not Found     srpen   2011\n",
      "error: HTTP Error 404: Not Found     zari   2011\n",
      "error: HTTP Error 404: Not Found     zari   2011\n",
      "error: HTTP Error 404: Not Found     rijen   2011\n",
      "error: HTTP Error 404: Not Found     rijen   2011\n",
      "error: HTTP Error 404: Not Found     listopad   2011\n",
      "error: HTTP Error 404: Not Found     listopad   2011\n",
      "error: HTTP Error 404: Not Found     prosinec   2011\n",
      "error: HTTP Error 404: Not Found     prosinec   2011\n",
      "error: HTTP Error 404: Not Found     leden   2012\n",
      "error: HTTP Error 404: Not Found     leden   2012\n",
      "error: HTTP Error 404: Not Found     unor   2012\n",
      "error: HTTP Error 404: Not Found     unor   2012\n",
      "error: HTTP Error 404: Not Found     brezen   2012\n",
      "error: HTTP Error 404: Not Found     brezen   2012\n",
      "error: HTTP Error 404: Not Found     duben   2012\n",
      "error: HTTP Error 404: Not Found     duben   2012\n",
      "error: HTTP Error 404: Not Found     kveten   2012\n",
      "error: HTTP Error 404: Not Found     kveten   2012\n",
      "error: HTTP Error 404: Not Found     cerven   2012\n",
      "error: HTTP Error 404: Not Found     cerven   2012\n",
      "error: HTTP Error 404: Not Found     cervenec   2012\n",
      "error: HTTP Error 404: Not Found     cervenec   2012\n",
      "error: HTTP Error 404: Not Found     srpen   2012\n",
      "error: HTTP Error 404: Not Found     srpen   2012\n",
      "error: HTTP Error 404: Not Found     zari   2012\n",
      "error: HTTP Error 404: Not Found     zari   2012\n",
      "error: HTTP Error 404: Not Found     rijen   2012\n",
      "error: HTTP Error 404: Not Found     rijen   2012\n",
      "error: HTTP Error 404: Not Found     listopad   2012\n",
      "error: HTTP Error 404: Not Found     listopad   2012\n",
      "error: HTTP Error 404: Not Found     prosinec   2012\n",
      "error: HTTP Error 404: Not Found     prosinec   2012\n",
      "error: HTTP Error 404: Not Found     leden   2013\n",
      "error: HTTP Error 404: Not Found     leden   2013\n",
      "error: HTTP Error 404: Not Found     unor   2013\n",
      "error: HTTP Error 404: Not Found     unor   2013\n",
      "error: HTTP Error 404: Not Found     brezen   2013\n",
      "error: HTTP Error 404: Not Found     brezen   2013\n",
      "error: HTTP Error 404: Not Found     duben   2013\n",
      "error: HTTP Error 404: Not Found     duben   2013\n",
      "error: HTTP Error 404: Not Found     kveten   2013\n",
      "error: HTTP Error 404: Not Found     kveten   2013\n",
      "error: HTTP Error 404: Not Found     cerven   2013\n",
      "error: HTTP Error 404: Not Found     cerven   2013\n",
      "error: HTTP Error 404: Not Found     cervenec   2013\n",
      "error: <urlopen error [Errno 110] Connection timed out>     cervenec   2013\n",
      "error: HTTP Error 404: Not Found     cervenec   2013\n",
      "error: HTTP Error 404: Not Found     srpen   2013\n",
      "error: HTTP Error 404: Not Found     srpen   2013\n",
      "error: HTTP Error 404: Not Found     zari   2013\n",
      "error: HTTP Error 404: Not Found     zari   2013\n",
      "error: HTTP Error 404: Not Found     rijen   2013\n",
      "error: HTTP Error 404: Not Found     rijen   2013\n",
      "error: HTTP Error 404: Not Found     listopad   2013\n",
      "error: HTTP Error 404: Not Found     listopad   2013\n",
      "error: HTTP Error 404: Not Found     prosinec   2013\n",
      "error: HTTP Error 404: Not Found     prosinec   2013\n",
      "error: HTTP Error 404: Not Found     leden   2014\n",
      "error: HTTP Error 404: Not Found     leden   2014\n",
      "error: HTTP Error 404: Not Found     unor   2014\n",
      "error: HTTP Error 404: Not Found     unor   2014\n",
      "error: HTTP Error 404: Not Found     brezen   2014\n",
      "error: <urlopen error [Errno 110] Connection timed out>     brezen   2014\n",
      "error: HTTP Error 404: Not Found     duben   2014\n",
      "error: HTTP Error 404: Not Found     duben   2014\n",
      "error: HTTP Error 404: Not Found     kveten   2014\n",
      "error: HTTP Error 404: Not Found     kveten   2014\n",
      "error: HTTP Error 404: Not Found     cerven   2014\n",
      "error: HTTP Error 404: Not Found     cerven   2014\n",
      "error: HTTP Error 404: Not Found     cervenec   2014\n",
      "error: HTTP Error 404: Not Found     cervenec   2014\n",
      "error: HTTP Error 404: Not Found     srpen   2014\n",
      "error: HTTP Error 404: Not Found     srpen   2014\n",
      "error: HTTP Error 404: Not Found     zari   2014\n",
      "error: HTTP Error 404: Not Found     zari   2014\n",
      "error: HTTP Error 404: Not Found     rijen   2014\n",
      "error: HTTP Error 404: Not Found     rijen   2014\n",
      "error: HTTP Error 404: Not Found     listopad   2014\n",
      "error: HTTP Error 404: Not Found     listopad   2014\n",
      "error: HTTP Error 404: Not Found     prosinec   2014\n",
      "error: HTTP Error 404: Not Found     prosinec   2014\n"
     ]
    },
    {
     "data": {
      "text/plain": "     month  year kraj  general_thefts  break_in_thefts\n0        1  2009  PHA            4237              775\n1        1  2009  STC            1140              716\n2        1  2009  JHC             275              181\n3        1  2009  PLK             469              231\n4        1  2009  KVK             198               96\n..     ...   ...  ...             ...              ...\n975     12  2014  VYS             126              124\n976     12  2014  JHM             113              112\n977     12  2014  OLK             162              125\n978     12  2014  MSK             265              150\n979     12  2014  ZLK             109               59\n\n[980 rows x 5 columns]",
      "text/html": "<div>\n<style scoped>\n    .dataframe tbody tr th:only-of-type {\n        vertical-align: middle;\n    }\n\n    .dataframe tbody tr th {\n        vertical-align: top;\n    }\n\n    .dataframe thead th {\n        text-align: right;\n    }\n</style>\n<table border=\"1\" class=\"dataframe\">\n  <thead>\n    <tr style=\"text-align: right;\">\n      <th></th>\n      <th>month</th>\n      <th>year</th>\n      <th>kraj</th>\n      <th>general_thefts</th>\n      <th>break_in_thefts</th>\n    </tr>\n  </thead>\n  <tbody>\n    <tr>\n      <th>0</th>\n      <td>1</td>\n      <td>2009</td>\n      <td>PHA</td>\n      <td>4237</td>\n      <td>775</td>\n    </tr>\n    <tr>\n      <th>1</th>\n      <td>1</td>\n      <td>2009</td>\n      <td>STC</td>\n      <td>1140</td>\n      <td>716</td>\n    </tr>\n    <tr>\n      <th>2</th>\n      <td>1</td>\n      <td>2009</td>\n      <td>JHC</td>\n      <td>275</td>\n      <td>181</td>\n    </tr>\n    <tr>\n      <th>3</th>\n      <td>1</td>\n      <td>2009</td>\n      <td>PLK</td>\n      <td>469</td>\n      <td>231</td>\n    </tr>\n    <tr>\n      <th>4</th>\n      <td>1</td>\n      <td>2009</td>\n      <td>KVK</td>\n      <td>198</td>\n      <td>96</td>\n    </tr>\n    <tr>\n      <th>...</th>\n      <td>...</td>\n      <td>...</td>\n      <td>...</td>\n      <td>...</td>\n      <td>...</td>\n    </tr>\n    <tr>\n      <th>975</th>\n      <td>12</td>\n      <td>2014</td>\n      <td>VYS</td>\n      <td>126</td>\n      <td>124</td>\n    </tr>\n    <tr>\n      <th>976</th>\n      <td>12</td>\n      <td>2014</td>\n      <td>JHM</td>\n      <td>113</td>\n      <td>112</td>\n    </tr>\n    <tr>\n      <th>977</th>\n      <td>12</td>\n      <td>2014</td>\n      <td>OLK</td>\n      <td>162</td>\n      <td>125</td>\n    </tr>\n    <tr>\n      <th>978</th>\n      <td>12</td>\n      <td>2014</td>\n      <td>MSK</td>\n      <td>265</td>\n      <td>150</td>\n    </tr>\n    <tr>\n      <th>979</th>\n      <td>12</td>\n      <td>2014</td>\n      <td>ZLK</td>\n      <td>109</td>\n      <td>59</td>\n    </tr>\n  </tbody>\n</table>\n<p>980 rows × 5 columns</p>\n</div>"
     },
     "execution_count": 105,
     "metadata": {},
     "output_type": "execute_result"
    }
   ],
   "source": [
    "crim_df_1 = criminality_rate_oldest(months_czech, years_1, idx_1)\n",
    "crim_df_1"
   ],
   "metadata": {
    "collapsed": false
   }
  },
  {
   "cell_type": "markdown",
   "source": [
    "### Add timeouts"
   ],
   "metadata": {
    "collapsed": false
   }
  },
  {
   "cell_type": "code",
   "execution_count": 230,
   "outputs": [
    {
     "data": {
      "text/plain": "     month  year kraj  general_thefts  break_in_thefts\n0        1  2019  PHA            1732              369\n1        1  2019  STC             382              220\n2        1  2019  JHC             151               73\n3        1  2019  PLK             237              138\n4        1  2019  ULK             379              149\n..     ...   ...  ...             ...              ...\n163     12  2019  ZLK              69               48\n164     12  2019  VYS              49               44\n165     12  2019  PAK              62               33\n166     12  2019  LBK             100               70\n167     12  2019  KVK              92               72\n\n[168 rows x 5 columns]",
      "text/html": "<div>\n<style scoped>\n    .dataframe tbody tr th:only-of-type {\n        vertical-align: middle;\n    }\n\n    .dataframe tbody tr th {\n        vertical-align: top;\n    }\n\n    .dataframe thead th {\n        text-align: right;\n    }\n</style>\n<table border=\"1\" class=\"dataframe\">\n  <thead>\n    <tr style=\"text-align: right;\">\n      <th></th>\n      <th>month</th>\n      <th>year</th>\n      <th>kraj</th>\n      <th>general_thefts</th>\n      <th>break_in_thefts</th>\n    </tr>\n  </thead>\n  <tbody>\n    <tr>\n      <th>0</th>\n      <td>1</td>\n      <td>2019</td>\n      <td>PHA</td>\n      <td>1732</td>\n      <td>369</td>\n    </tr>\n    <tr>\n      <th>1</th>\n      <td>1</td>\n      <td>2019</td>\n      <td>STC</td>\n      <td>382</td>\n      <td>220</td>\n    </tr>\n    <tr>\n      <th>2</th>\n      <td>1</td>\n      <td>2019</td>\n      <td>JHC</td>\n      <td>151</td>\n      <td>73</td>\n    </tr>\n    <tr>\n      <th>3</th>\n      <td>1</td>\n      <td>2019</td>\n      <td>PLK</td>\n      <td>237</td>\n      <td>138</td>\n    </tr>\n    <tr>\n      <th>4</th>\n      <td>1</td>\n      <td>2019</td>\n      <td>ULK</td>\n      <td>379</td>\n      <td>149</td>\n    </tr>\n    <tr>\n      <th>...</th>\n      <td>...</td>\n      <td>...</td>\n      <td>...</td>\n      <td>...</td>\n      <td>...</td>\n    </tr>\n    <tr>\n      <th>163</th>\n      <td>12</td>\n      <td>2019</td>\n      <td>ZLK</td>\n      <td>69</td>\n      <td>48</td>\n    </tr>\n    <tr>\n      <th>164</th>\n      <td>12</td>\n      <td>2019</td>\n      <td>VYS</td>\n      <td>49</td>\n      <td>44</td>\n    </tr>\n    <tr>\n      <th>165</th>\n      <td>12</td>\n      <td>2019</td>\n      <td>PAK</td>\n      <td>62</td>\n      <td>33</td>\n    </tr>\n    <tr>\n      <th>166</th>\n      <td>12</td>\n      <td>2019</td>\n      <td>LBK</td>\n      <td>100</td>\n      <td>70</td>\n    </tr>\n    <tr>\n      <th>167</th>\n      <td>12</td>\n      <td>2019</td>\n      <td>KVK</td>\n      <td>92</td>\n      <td>72</td>\n    </tr>\n  </tbody>\n</table>\n<p>168 rows × 5 columns</p>\n</div>"
     },
     "execution_count": 230,
     "metadata": {},
     "output_type": "execute_result"
    }
   ],
   "source": [
    "yr1 = [\"2019\"]\n",
    "crim_timeout_1 = criminality_rate_new(months_czech, yr1, idx_2)\n",
    "crim_timeout_1"
   ],
   "metadata": {
    "collapsed": false
   }
  },
  {
   "cell_type": "code",
   "execution_count": 152,
   "outputs": [
    {
     "name": "stdout",
     "output_type": "stream",
     "text": [
      "error: HTTP Error 404: Not Found     leden   2010\n",
      "error: HTTP Error 404: Not Found     leden   2010\n",
      "error: HTTP Error 404: Not Found     unor   2010\n",
      "error: HTTP Error 404: Not Found     unor   2010\n",
      "error: HTTP Error 404: Not Found     brezen   2010\n",
      "error: HTTP Error 404: Not Found     brezen   2010\n",
      "error: HTTP Error 404: Not Found     duben   2010\n",
      "error: HTTP Error 404: Not Found     duben   2010\n",
      "error: HTTP Error 404: Not Found     kveten   2010\n",
      "error: HTTP Error 404: Not Found     kveten   2010\n",
      "error: HTTP Error 404: Not Found     cerven   2010\n",
      "error: HTTP Error 404: Not Found     cerven   2010\n",
      "error: HTTP Error 404: Not Found     cervenec   2010\n",
      "error: HTTP Error 404: Not Found     cervenec   2010\n",
      "error: HTTP Error 404: Not Found     srpen   2010\n",
      "error: HTTP Error 404: Not Found     srpen   2010\n",
      "error: HTTP Error 404: Not Found     zari   2010\n",
      "error: HTTP Error 404: Not Found     zari   2010\n",
      "error: HTTP Error 404: Not Found     rijen   2010\n",
      "error: HTTP Error 404: Not Found     rijen   2010\n",
      "error: HTTP Error 404: Not Found     listopad   2010\n",
      "error: HTTP Error 404: Not Found     listopad   2010\n",
      "error: HTTP Error 404: Not Found     prosinec   2010\n",
      "error: HTTP Error 404: Not Found     prosinec   2010\n",
      "error: HTTP Error 404: Not Found     leden   2014\n",
      "error: HTTP Error 404: Not Found     leden   2014\n",
      "error: HTTP Error 404: Not Found     unor   2014\n",
      "error: HTTP Error 404: Not Found     unor   2014\n",
      "error: HTTP Error 404: Not Found     brezen   2014\n",
      "error: HTTP Error 404: Not Found     brezen   2014\n",
      "error: HTTP Error 404: Not Found     duben   2014\n",
      "error: HTTP Error 404: Not Found     duben   2014\n",
      "error: HTTP Error 404: Not Found     kveten   2014\n",
      "error: HTTP Error 404: Not Found     kveten   2014\n",
      "error: HTTP Error 404: Not Found     cerven   2014\n",
      "error: HTTP Error 404: Not Found     cerven   2014\n",
      "error: HTTP Error 404: Not Found     cervenec   2014\n",
      "error: HTTP Error 404: Not Found     cervenec   2014\n",
      "error: HTTP Error 404: Not Found     srpen   2014\n",
      "error: HTTP Error 404: Not Found     srpen   2014\n",
      "error: HTTP Error 404: Not Found     zari   2014\n",
      "error: HTTP Error 404: Not Found     zari   2014\n",
      "error: HTTP Error 404: Not Found     rijen   2014\n",
      "error: HTTP Error 404: Not Found     rijen   2014\n",
      "error: HTTP Error 404: Not Found     listopad   2014\n",
      "error: HTTP Error 404: Not Found     listopad   2014\n",
      "error: HTTP Error 404: Not Found     prosinec   2014\n",
      "error: HTTP Error 404: Not Found     prosinec   2014\n"
     ]
    },
    {
     "data": {
      "text/plain": "     month  year kraj  general_thefts  break_in_thefts\n0        1  2010  PHA            3134              808\n1        1  2010  STC             916              644\n2        1  2010  JHC             298              184\n3        1  2010  PLK             311              260\n4        1  2010  KVK             709              449\n..     ...   ...  ...             ...              ...\n331     12  2014  VYS             126              124\n332     12  2014  JHM             113              112\n333     12  2014  OLK             162              125\n334     12  2014  MSK             265              150\n335     12  2014  ZLK             109               59\n\n[336 rows x 5 columns]",
      "text/html": "<div>\n<style scoped>\n    .dataframe tbody tr th:only-of-type {\n        vertical-align: middle;\n    }\n\n    .dataframe tbody tr th {\n        vertical-align: top;\n    }\n\n    .dataframe thead th {\n        text-align: right;\n    }\n</style>\n<table border=\"1\" class=\"dataframe\">\n  <thead>\n    <tr style=\"text-align: right;\">\n      <th></th>\n      <th>month</th>\n      <th>year</th>\n      <th>kraj</th>\n      <th>general_thefts</th>\n      <th>break_in_thefts</th>\n    </tr>\n  </thead>\n  <tbody>\n    <tr>\n      <th>0</th>\n      <td>1</td>\n      <td>2010</td>\n      <td>PHA</td>\n      <td>3134</td>\n      <td>808</td>\n    </tr>\n    <tr>\n      <th>1</th>\n      <td>1</td>\n      <td>2010</td>\n      <td>STC</td>\n      <td>916</td>\n      <td>644</td>\n    </tr>\n    <tr>\n      <th>2</th>\n      <td>1</td>\n      <td>2010</td>\n      <td>JHC</td>\n      <td>298</td>\n      <td>184</td>\n    </tr>\n    <tr>\n      <th>3</th>\n      <td>1</td>\n      <td>2010</td>\n      <td>PLK</td>\n      <td>311</td>\n      <td>260</td>\n    </tr>\n    <tr>\n      <th>4</th>\n      <td>1</td>\n      <td>2010</td>\n      <td>KVK</td>\n      <td>709</td>\n      <td>449</td>\n    </tr>\n    <tr>\n      <th>...</th>\n      <td>...</td>\n      <td>...</td>\n      <td>...</td>\n      <td>...</td>\n      <td>...</td>\n    </tr>\n    <tr>\n      <th>331</th>\n      <td>12</td>\n      <td>2014</td>\n      <td>VYS</td>\n      <td>126</td>\n      <td>124</td>\n    </tr>\n    <tr>\n      <th>332</th>\n      <td>12</td>\n      <td>2014</td>\n      <td>JHM</td>\n      <td>113</td>\n      <td>112</td>\n    </tr>\n    <tr>\n      <th>333</th>\n      <td>12</td>\n      <td>2014</td>\n      <td>OLK</td>\n      <td>162</td>\n      <td>125</td>\n    </tr>\n    <tr>\n      <th>334</th>\n      <td>12</td>\n      <td>2014</td>\n      <td>MSK</td>\n      <td>265</td>\n      <td>150</td>\n    </tr>\n    <tr>\n      <th>335</th>\n      <td>12</td>\n      <td>2014</td>\n      <td>ZLK</td>\n      <td>109</td>\n      <td>59</td>\n    </tr>\n  </tbody>\n</table>\n<p>336 rows × 5 columns</p>\n</div>"
     },
     "execution_count": 152,
     "metadata": {},
     "output_type": "execute_result"
    }
   ],
   "source": [
    "yr2 = [\"2010\", \"2014\"]\n",
    "crim_timeout_2 = criminality_rate_oldest(months_czech, yr2, idx_1)\n",
    "crim_timeout_2"
   ],
   "metadata": {
    "collapsed": false
   }
  },
  {
   "cell_type": "code",
   "execution_count": 121,
   "outputs": [
    {
     "name": "stdout",
     "output_type": "stream",
     "text": [
      "error: HTTP Error 404: Not Found     leden   2013\n",
      "error: HTTP Error 404: Not Found     leden   2013\n",
      "error: HTTP Error 404: Not Found     unor   2013\n",
      "error: HTTP Error 404: Not Found     unor   2013\n",
      "error: HTTP Error 404: Not Found     brezen   2013\n",
      "error: HTTP Error 404: Not Found     brezen   2013\n",
      "error: HTTP Error 404: Not Found     duben   2013\n",
      "error: HTTP Error 404: Not Found     duben   2013\n",
      "error: HTTP Error 404: Not Found     kveten   2013\n",
      "error: HTTP Error 404: Not Found     kveten   2013\n",
      "error: HTTP Error 404: Not Found     cerven   2013\n",
      "error: HTTP Error 404: Not Found     cerven   2013\n",
      "error: HTTP Error 404: Not Found     cervenec   2013\n",
      "error: HTTP Error 404: Not Found     cervenec   2013\n",
      "error: HTTP Error 404: Not Found     srpen   2013\n",
      "error: HTTP Error 404: Not Found     srpen   2013\n",
      "error: HTTP Error 404: Not Found     zari   2013\n",
      "error: HTTP Error 404: Not Found     zari   2013\n",
      "error: HTTP Error 404: Not Found     rijen   2013\n",
      "error: HTTP Error 404: Not Found     rijen   2013\n",
      "error: HTTP Error 404: Not Found     listopad   2013\n",
      "error: HTTP Error 404: Not Found     listopad   2013\n",
      "error: HTTP Error 404: Not Found     prosinec   2013\n",
      "error: HTTP Error 404: Not Found     prosinec   2013\n"
     ]
    },
    {
     "data": {
      "text/plain": "     month  year kraj  general_thefts  break_in_thefts\n0        1  2013  PHA            3713              824\n1        1  2013  STC             953              784\n2        1  2013  JHC             302              261\n3        1  2013  PLK             331              279\n4        1  2013  KVK             812              594\n..     ...   ...  ...             ...              ...\n163     12  2013  VYS             160              133\n164     12  2013  JHM             181               90\n165     12  2013  OLK             223              132\n166     12  2013  MSK             330              226\n167     12  2013  ZLK             138               89\n\n[168 rows x 5 columns]",
      "text/html": "<div>\n<style scoped>\n    .dataframe tbody tr th:only-of-type {\n        vertical-align: middle;\n    }\n\n    .dataframe tbody tr th {\n        vertical-align: top;\n    }\n\n    .dataframe thead th {\n        text-align: right;\n    }\n</style>\n<table border=\"1\" class=\"dataframe\">\n  <thead>\n    <tr style=\"text-align: right;\">\n      <th></th>\n      <th>month</th>\n      <th>year</th>\n      <th>kraj</th>\n      <th>general_thefts</th>\n      <th>break_in_thefts</th>\n    </tr>\n  </thead>\n  <tbody>\n    <tr>\n      <th>0</th>\n      <td>1</td>\n      <td>2013</td>\n      <td>PHA</td>\n      <td>3713</td>\n      <td>824</td>\n    </tr>\n    <tr>\n      <th>1</th>\n      <td>1</td>\n      <td>2013</td>\n      <td>STC</td>\n      <td>953</td>\n      <td>784</td>\n    </tr>\n    <tr>\n      <th>2</th>\n      <td>1</td>\n      <td>2013</td>\n      <td>JHC</td>\n      <td>302</td>\n      <td>261</td>\n    </tr>\n    <tr>\n      <th>3</th>\n      <td>1</td>\n      <td>2013</td>\n      <td>PLK</td>\n      <td>331</td>\n      <td>279</td>\n    </tr>\n    <tr>\n      <th>4</th>\n      <td>1</td>\n      <td>2013</td>\n      <td>KVK</td>\n      <td>812</td>\n      <td>594</td>\n    </tr>\n    <tr>\n      <th>...</th>\n      <td>...</td>\n      <td>...</td>\n      <td>...</td>\n      <td>...</td>\n      <td>...</td>\n    </tr>\n    <tr>\n      <th>163</th>\n      <td>12</td>\n      <td>2013</td>\n      <td>VYS</td>\n      <td>160</td>\n      <td>133</td>\n    </tr>\n    <tr>\n      <th>164</th>\n      <td>12</td>\n      <td>2013</td>\n      <td>JHM</td>\n      <td>181</td>\n      <td>90</td>\n    </tr>\n    <tr>\n      <th>165</th>\n      <td>12</td>\n      <td>2013</td>\n      <td>OLK</td>\n      <td>223</td>\n      <td>132</td>\n    </tr>\n    <tr>\n      <th>166</th>\n      <td>12</td>\n      <td>2013</td>\n      <td>MSK</td>\n      <td>330</td>\n      <td>226</td>\n    </tr>\n    <tr>\n      <th>167</th>\n      <td>12</td>\n      <td>2013</td>\n      <td>ZLK</td>\n      <td>138</td>\n      <td>89</td>\n    </tr>\n  </tbody>\n</table>\n<p>168 rows × 5 columns</p>\n</div>"
     },
     "execution_count": 121,
     "metadata": {},
     "output_type": "execute_result"
    }
   ],
   "source": [
    "yr3 = [\"2013\"]\n",
    "crim_timeout_3 = criminality_rate_oldest(months_czech, yr3, idx_1)\n",
    "crim_timeout_3"
   ],
   "metadata": {
    "collapsed": false
   }
  },
  {
   "cell_type": "markdown",
   "source": [
    "## Drop duplicates"
   ],
   "metadata": {
    "collapsed": false
   }
  },
  {
   "cell_type": "code",
   "execution_count": 131,
   "outputs": [
    {
     "data": {
      "text/plain": "      month kraj  general_thefts  break_in_thefts\nyear                                             \n2009      1  PHA            4237              775\n2009      1  STC            1140              716\n2009      1  JHC             275              181\n2009      1  PLK             469              231\n2009      1  KVK             198               96\n...     ...  ...             ...              ...\n2014     12  VYS             126              124\n2014     12  JHM             113              112\n2014     12  OLK             162              125\n2014     12  MSK             265              150\n2014     12  ZLK             109               59\n\n[980 rows x 4 columns]",
      "text/html": "<div>\n<style scoped>\n    .dataframe tbody tr th:only-of-type {\n        vertical-align: middle;\n    }\n\n    .dataframe tbody tr th {\n        vertical-align: top;\n    }\n\n    .dataframe thead th {\n        text-align: right;\n    }\n</style>\n<table border=\"1\" class=\"dataframe\">\n  <thead>\n    <tr style=\"text-align: right;\">\n      <th></th>\n      <th>month</th>\n      <th>kraj</th>\n      <th>general_thefts</th>\n      <th>break_in_thefts</th>\n    </tr>\n    <tr>\n      <th>year</th>\n      <th></th>\n      <th></th>\n      <th></th>\n      <th></th>\n    </tr>\n  </thead>\n  <tbody>\n    <tr>\n      <th>2009</th>\n      <td>1</td>\n      <td>PHA</td>\n      <td>4237</td>\n      <td>775</td>\n    </tr>\n    <tr>\n      <th>2009</th>\n      <td>1</td>\n      <td>STC</td>\n      <td>1140</td>\n      <td>716</td>\n    </tr>\n    <tr>\n      <th>2009</th>\n      <td>1</td>\n      <td>JHC</td>\n      <td>275</td>\n      <td>181</td>\n    </tr>\n    <tr>\n      <th>2009</th>\n      <td>1</td>\n      <td>PLK</td>\n      <td>469</td>\n      <td>231</td>\n    </tr>\n    <tr>\n      <th>2009</th>\n      <td>1</td>\n      <td>KVK</td>\n      <td>198</td>\n      <td>96</td>\n    </tr>\n    <tr>\n      <th>...</th>\n      <td>...</td>\n      <td>...</td>\n      <td>...</td>\n      <td>...</td>\n    </tr>\n    <tr>\n      <th>2014</th>\n      <td>12</td>\n      <td>VYS</td>\n      <td>126</td>\n      <td>124</td>\n    </tr>\n    <tr>\n      <th>2014</th>\n      <td>12</td>\n      <td>JHM</td>\n      <td>113</td>\n      <td>112</td>\n    </tr>\n    <tr>\n      <th>2014</th>\n      <td>12</td>\n      <td>OLK</td>\n      <td>162</td>\n      <td>125</td>\n    </tr>\n    <tr>\n      <th>2014</th>\n      <td>12</td>\n      <td>MSK</td>\n      <td>265</td>\n      <td>150</td>\n    </tr>\n    <tr>\n      <th>2014</th>\n      <td>12</td>\n      <td>ZLK</td>\n      <td>109</td>\n      <td>59</td>\n    </tr>\n  </tbody>\n</table>\n<p>980 rows × 4 columns</p>\n</div>"
     },
     "execution_count": 131,
     "metadata": {},
     "output_type": "execute_result"
    }
   ],
   "source": [
    "crim_df_1"
   ],
   "metadata": {
    "collapsed": false
   }
  },
  {
   "cell_type": "code",
   "execution_count": 139,
   "outputs": [
    {
     "data": {
      "text/plain": "     year  month kraj  general_thefts  break_in_thefts\n0    2009      1  PHA            4237              775\n1    2009      1  STC            1140              716\n2    2009      1  JHC             275              181\n3    2009      1  PLK             469              231\n4    2009      1  KVK             198               96\n..    ...    ...  ...             ...              ...\n499  2012     12  VYS             164              148\n500  2012     12  JHM             127              140\n501  2012     12  OLK             180              128\n502  2012     12  MSK             330              156\n503  2012     12  ZLK             144              118\n\n[504 rows x 5 columns]",
      "text/html": "<div>\n<style scoped>\n    .dataframe tbody tr th:only-of-type {\n        vertical-align: middle;\n    }\n\n    .dataframe tbody tr th {\n        vertical-align: top;\n    }\n\n    .dataframe thead th {\n        text-align: right;\n    }\n</style>\n<table border=\"1\" class=\"dataframe\">\n  <thead>\n    <tr style=\"text-align: right;\">\n      <th></th>\n      <th>year</th>\n      <th>month</th>\n      <th>kraj</th>\n      <th>general_thefts</th>\n      <th>break_in_thefts</th>\n    </tr>\n  </thead>\n  <tbody>\n    <tr>\n      <th>0</th>\n      <td>2009</td>\n      <td>1</td>\n      <td>PHA</td>\n      <td>4237</td>\n      <td>775</td>\n    </tr>\n    <tr>\n      <th>1</th>\n      <td>2009</td>\n      <td>1</td>\n      <td>STC</td>\n      <td>1140</td>\n      <td>716</td>\n    </tr>\n    <tr>\n      <th>2</th>\n      <td>2009</td>\n      <td>1</td>\n      <td>JHC</td>\n      <td>275</td>\n      <td>181</td>\n    </tr>\n    <tr>\n      <th>3</th>\n      <td>2009</td>\n      <td>1</td>\n      <td>PLK</td>\n      <td>469</td>\n      <td>231</td>\n    </tr>\n    <tr>\n      <th>4</th>\n      <td>2009</td>\n      <td>1</td>\n      <td>KVK</td>\n      <td>198</td>\n      <td>96</td>\n    </tr>\n    <tr>\n      <th>...</th>\n      <td>...</td>\n      <td>...</td>\n      <td>...</td>\n      <td>...</td>\n      <td>...</td>\n    </tr>\n    <tr>\n      <th>499</th>\n      <td>2012</td>\n      <td>12</td>\n      <td>VYS</td>\n      <td>164</td>\n      <td>148</td>\n    </tr>\n    <tr>\n      <th>500</th>\n      <td>2012</td>\n      <td>12</td>\n      <td>JHM</td>\n      <td>127</td>\n      <td>140</td>\n    </tr>\n    <tr>\n      <th>501</th>\n      <td>2012</td>\n      <td>12</td>\n      <td>OLK</td>\n      <td>180</td>\n      <td>128</td>\n    </tr>\n    <tr>\n      <th>502</th>\n      <td>2012</td>\n      <td>12</td>\n      <td>MSK</td>\n      <td>330</td>\n      <td>156</td>\n    </tr>\n    <tr>\n      <th>503</th>\n      <td>2012</td>\n      <td>12</td>\n      <td>ZLK</td>\n      <td>144</td>\n      <td>118</td>\n    </tr>\n  </tbody>\n</table>\n<p>504 rows × 5 columns</p>\n</div>"
     },
     "execution_count": 139,
     "metadata": {},
     "output_type": "execute_result"
    }
   ],
   "source": [
    "# crim_df_1.set_index(keys=[\"year\"], inplace=True)\n",
    "# crim_df_1 = crim_df_1.drop(index=[\"2010\"], axis=0)\n",
    "# crim_df_1 = crim_df_1.drop(index=[\"2013\"], axis=0)\n",
    "# crim_df_1 = crim_df_1.drop(index=[\"2014\"], axis=0)\n",
    "# crim_df_1.drop(index=[\"2019\"], axis=0)\n",
    "# crim_df_1.reset_index(inplace=True)\n",
    "crim_df_1"
   ],
   "metadata": {
    "collapsed": false
   }
  },
  {
   "cell_type": "code",
   "execution_count": 239,
   "outputs": [
    {
     "data": {
      "text/plain": "     year  month kraj  general_thefts  break_in_thefts\n0    2016      1  PHA            2395              671\n1    2016      1  STC             483              319\n2    2016      1  JHC             194              132\n3    2016      1  PLK             236              107\n4    2016      1  ULK             499              219\n..    ...    ...  ...             ...              ...\n667  2020     12  ZLK              34               29\n668  2020     12  VYS              40               33\n669  2020     12  PAK              44               31\n670  2020     12  LBK              65               44\n671  2020     12  KVK              42               36\n\n[672 rows x 5 columns]",
      "text/html": "<div>\n<style scoped>\n    .dataframe tbody tr th:only-of-type {\n        vertical-align: middle;\n    }\n\n    .dataframe tbody tr th {\n        vertical-align: top;\n    }\n\n    .dataframe thead th {\n        text-align: right;\n    }\n</style>\n<table border=\"1\" class=\"dataframe\">\n  <thead>\n    <tr style=\"text-align: right;\">\n      <th></th>\n      <th>year</th>\n      <th>month</th>\n      <th>kraj</th>\n      <th>general_thefts</th>\n      <th>break_in_thefts</th>\n    </tr>\n  </thead>\n  <tbody>\n    <tr>\n      <th>0</th>\n      <td>2016</td>\n      <td>1</td>\n      <td>PHA</td>\n      <td>2395</td>\n      <td>671</td>\n    </tr>\n    <tr>\n      <th>1</th>\n      <td>2016</td>\n      <td>1</td>\n      <td>STC</td>\n      <td>483</td>\n      <td>319</td>\n    </tr>\n    <tr>\n      <th>2</th>\n      <td>2016</td>\n      <td>1</td>\n      <td>JHC</td>\n      <td>194</td>\n      <td>132</td>\n    </tr>\n    <tr>\n      <th>3</th>\n      <td>2016</td>\n      <td>1</td>\n      <td>PLK</td>\n      <td>236</td>\n      <td>107</td>\n    </tr>\n    <tr>\n      <th>4</th>\n      <td>2016</td>\n      <td>1</td>\n      <td>ULK</td>\n      <td>499</td>\n      <td>219</td>\n    </tr>\n    <tr>\n      <th>...</th>\n      <td>...</td>\n      <td>...</td>\n      <td>...</td>\n      <td>...</td>\n      <td>...</td>\n    </tr>\n    <tr>\n      <th>667</th>\n      <td>2020</td>\n      <td>12</td>\n      <td>ZLK</td>\n      <td>34</td>\n      <td>29</td>\n    </tr>\n    <tr>\n      <th>668</th>\n      <td>2020</td>\n      <td>12</td>\n      <td>VYS</td>\n      <td>40</td>\n      <td>33</td>\n    </tr>\n    <tr>\n      <th>669</th>\n      <td>2020</td>\n      <td>12</td>\n      <td>PAK</td>\n      <td>44</td>\n      <td>31</td>\n    </tr>\n    <tr>\n      <th>670</th>\n      <td>2020</td>\n      <td>12</td>\n      <td>LBK</td>\n      <td>65</td>\n      <td>44</td>\n    </tr>\n    <tr>\n      <th>671</th>\n      <td>2020</td>\n      <td>12</td>\n      <td>KVK</td>\n      <td>42</td>\n      <td>36</td>\n    </tr>\n  </tbody>\n</table>\n<p>672 rows × 5 columns</p>\n</div>"
     },
     "execution_count": 239,
     "metadata": {},
     "output_type": "execute_result"
    }
   ],
   "source": [
    "# crim_df_2.set_index(keys=[\"year\"], inplace=True)\n",
    "# crim_df_2 = crim_df_2.drop(index=[2019], axis=0)\n",
    "# crim_df_2.reset_index(inplace=True)\n",
    "crim_df_2"
   ],
   "metadata": {
    "collapsed": false
   }
  },
  {
   "cell_type": "markdown",
   "source": [
    "### Goddamn 2015\n",
    "### ZIPs available [here](https://www.policie.cz/clanek/statisticke-prehledy-kriminality-za-rok-2015.aspx)"
   ],
   "metadata": {
    "collapsed": false
   }
  },
  {
   "cell_type": "code",
   "execution_count": 32,
   "outputs": [],
   "source": [
    "def criminality_rate_2015(idx):\n",
    "    crim_df = pd.DataFrame(columns=('month', 'year', 'kraj', 'general_thefts', 'break_in_thefts'))\n",
    "    count = 0\n",
    "    for m in range(0, len(months_czech)):\n",
    "        path = f\"./Statistiky_od_01.01.2015_do_{month2days.get(months_nums[m])}.{months_nums[m]}.2015/Statistiky přehled-celkem.xls\"\n",
    "        # remember the last month for every kraj - cummulative numbers\n",
    "        last_month_gen_tft = [0] * len(kraje)\n",
    "        last_month_brk_in = [0] * len(kraje)\n",
    "        try:\n",
    "            df = pd.read_excel(path, sheet_name=None)  #loop through all sheets\n",
    "            first_sheet = True\n",
    "            curr_kraj = 0\n",
    "            for x in df:  # go through the sheets\n",
    "                # skip the CR sheet\n",
    "                if first_sheet:\n",
    "                    first_sheet = False\n",
    "                    continue\n",
    "                dict = {\n",
    "                    'month': int(months_nums[m]),\n",
    "                    'year': 2015,\n",
    "                    'kraj': kraje[curr_kraj],\n",
    "                    'general_thefts': (df[x][\"Unnamed: 3\"]).iloc[idx[0]] - last_month_gen_tft[curr_kraj],\n",
    "                    'break_in_thefts': (df[x][\"Unnamed: 3\"]).iloc[idx[1]] - last_month_brk_in[curr_kraj]\n",
    "                }\n",
    "                crim_df.loc[count] = dict\n",
    "                last_month_gen_tft[curr_kraj] = (df[x][\"Unnamed: 3\"]).iloc[idx[0]]\n",
    "                last_month_brk_in[curr_kraj] = (df[x][\"Unnamed: 3\"]).iloc[idx[1]]\n",
    "                count += 1\n",
    "                curr_kraj += 1\n",
    "        except Exception as e:\n",
    "            print(\"error:\", e, \" \", \" \", months_czech[m], \" \", 2015)\n",
    "    return crim_df"
   ],
   "metadata": {
    "collapsed": false
   }
  },
  {
   "cell_type": "code",
   "execution_count": 33,
   "outputs": [
    {
     "data": {
      "text/plain": "     month  year kraj  general_thefts  break_in_thefts\n0        1  2015  PHA            2496              662\n1        1  2015  STC             664              480\n2        1  2015  JHC             270              152\n3        1  2015  PLK             276              185\n4        1  2015  KVK             590              312\n..     ...   ...  ...             ...              ...\n163     12  2015  VYS            1822             1075\n164     12  2015  JHM            1435              925\n165     12  2015  OLK            1839              956\n166     12  2015  MSK            3407             1772\n167     12  2015  ZLK            1469              690\n\n[168 rows x 5 columns]",
      "text/html": "<div>\n<style scoped>\n    .dataframe tbody tr th:only-of-type {\n        vertical-align: middle;\n    }\n\n    .dataframe tbody tr th {\n        vertical-align: top;\n    }\n\n    .dataframe thead th {\n        text-align: right;\n    }\n</style>\n<table border=\"1\" class=\"dataframe\">\n  <thead>\n    <tr style=\"text-align: right;\">\n      <th></th>\n      <th>month</th>\n      <th>year</th>\n      <th>kraj</th>\n      <th>general_thefts</th>\n      <th>break_in_thefts</th>\n    </tr>\n  </thead>\n  <tbody>\n    <tr>\n      <th>0</th>\n      <td>1</td>\n      <td>2015</td>\n      <td>PHA</td>\n      <td>2496</td>\n      <td>662</td>\n    </tr>\n    <tr>\n      <th>1</th>\n      <td>1</td>\n      <td>2015</td>\n      <td>STC</td>\n      <td>664</td>\n      <td>480</td>\n    </tr>\n    <tr>\n      <th>2</th>\n      <td>1</td>\n      <td>2015</td>\n      <td>JHC</td>\n      <td>270</td>\n      <td>152</td>\n    </tr>\n    <tr>\n      <th>3</th>\n      <td>1</td>\n      <td>2015</td>\n      <td>PLK</td>\n      <td>276</td>\n      <td>185</td>\n    </tr>\n    <tr>\n      <th>4</th>\n      <td>1</td>\n      <td>2015</td>\n      <td>KVK</td>\n      <td>590</td>\n      <td>312</td>\n    </tr>\n    <tr>\n      <th>...</th>\n      <td>...</td>\n      <td>...</td>\n      <td>...</td>\n      <td>...</td>\n      <td>...</td>\n    </tr>\n    <tr>\n      <th>163</th>\n      <td>12</td>\n      <td>2015</td>\n      <td>VYS</td>\n      <td>1822</td>\n      <td>1075</td>\n    </tr>\n    <tr>\n      <th>164</th>\n      <td>12</td>\n      <td>2015</td>\n      <td>JHM</td>\n      <td>1435</td>\n      <td>925</td>\n    </tr>\n    <tr>\n      <th>165</th>\n      <td>12</td>\n      <td>2015</td>\n      <td>OLK</td>\n      <td>1839</td>\n      <td>956</td>\n    </tr>\n    <tr>\n      <th>166</th>\n      <td>12</td>\n      <td>2015</td>\n      <td>MSK</td>\n      <td>3407</td>\n      <td>1772</td>\n    </tr>\n    <tr>\n      <th>167</th>\n      <td>12</td>\n      <td>2015</td>\n      <td>ZLK</td>\n      <td>1469</td>\n      <td>690</td>\n    </tr>\n  </tbody>\n</table>\n<p>168 rows × 5 columns</p>\n</div>"
     },
     "execution_count": 33,
     "metadata": {},
     "output_type": "execute_result"
    }
   ],
   "source": [
    "idx_2015 = [97, 80]\n",
    "crim_df_2015 = criminality_rate_2015(idx_2015)\n",
    "crim_df_2015"
   ],
   "metadata": {
    "collapsed": false
   }
  },
  {
   "cell_type": "code",
   "execution_count": 240,
   "outputs": [
    {
     "data": {
      "text/plain": "                 general_thefts  break_in_thefts\nmonth year kraj                                 \n1     2009 HKK              271              174\n2     2009 HKK              245              164\n3     2009 HKK              284              207\n4     2009 HKK              271              162\n5     2009 HKK              268              191\n...                         ...              ...\n6     2023 ZLK               68               51\n7     2023 ZLK               95               48\n8     2023 ZLK              106               30\n9     2023 ZLK               67               57\n10    2023 ZLK               93               35\n\n[2492 rows x 2 columns]",
      "text/html": "<div>\n<style scoped>\n    .dataframe tbody tr th:only-of-type {\n        vertical-align: middle;\n    }\n\n    .dataframe tbody tr th {\n        vertical-align: top;\n    }\n\n    .dataframe thead th {\n        text-align: right;\n    }\n</style>\n<table border=\"1\" class=\"dataframe\">\n  <thead>\n    <tr style=\"text-align: right;\">\n      <th></th>\n      <th></th>\n      <th></th>\n      <th>general_thefts</th>\n      <th>break_in_thefts</th>\n    </tr>\n    <tr>\n      <th>month</th>\n      <th>year</th>\n      <th>kraj</th>\n      <th></th>\n      <th></th>\n    </tr>\n  </thead>\n  <tbody>\n    <tr>\n      <th>1</th>\n      <th>2009</th>\n      <th>HKK</th>\n      <td>271</td>\n      <td>174</td>\n    </tr>\n    <tr>\n      <th>2</th>\n      <th>2009</th>\n      <th>HKK</th>\n      <td>245</td>\n      <td>164</td>\n    </tr>\n    <tr>\n      <th>3</th>\n      <th>2009</th>\n      <th>HKK</th>\n      <td>284</td>\n      <td>207</td>\n    </tr>\n    <tr>\n      <th>4</th>\n      <th>2009</th>\n      <th>HKK</th>\n      <td>271</td>\n      <td>162</td>\n    </tr>\n    <tr>\n      <th>5</th>\n      <th>2009</th>\n      <th>HKK</th>\n      <td>268</td>\n      <td>191</td>\n    </tr>\n    <tr>\n      <th>...</th>\n      <th>...</th>\n      <th>...</th>\n      <td>...</td>\n      <td>...</td>\n    </tr>\n    <tr>\n      <th>6</th>\n      <th>2023</th>\n      <th>ZLK</th>\n      <td>68</td>\n      <td>51</td>\n    </tr>\n    <tr>\n      <th>7</th>\n      <th>2023</th>\n      <th>ZLK</th>\n      <td>95</td>\n      <td>48</td>\n    </tr>\n    <tr>\n      <th>8</th>\n      <th>2023</th>\n      <th>ZLK</th>\n      <td>106</td>\n      <td>30</td>\n    </tr>\n    <tr>\n      <th>9</th>\n      <th>2023</th>\n      <th>ZLK</th>\n      <td>67</td>\n      <td>57</td>\n    </tr>\n    <tr>\n      <th>10</th>\n      <th>2023</th>\n      <th>ZLK</th>\n      <td>93</td>\n      <td>35</td>\n    </tr>\n  </tbody>\n</table>\n<p>2492 rows × 2 columns</p>\n</div>"
     },
     "execution_count": 240,
     "metadata": {},
     "output_type": "execute_result"
    }
   ],
   "source": [
    "# merge the criminality\n",
    "crim_df = None\n",
    "crims = [crim_df_3, crim_timeout_1,crim_df_2, crim_df_2015, crim_timeout_3, crim_timeout_2, crim_df_1]\n",
    "for df_el in crims:\n",
    "        if crim_df is None:\n",
    "            crim_df = df_el\n",
    "        else:\n",
    "            crim_df = pd.concat([crim_df, df_el], axis=0)\n",
    "crim_df[\"year\"] = crim_df.year.astype(int)\n",
    "crim_df_sorted = crim_df.sort_values(by=['year', 'kraj', 'month'])\n",
    "crim_df_sorted.set_index(['month','year', 'kraj'], inplace=True)\n",
    "crim_df_sorted.to_csv(\"./criminality.csv\")\n",
    "crim_df_sorted"
   ],
   "metadata": {
    "collapsed": false
   }
  },
  {
   "cell_type": "markdown",
   "source": [
    "## Salaries"
   ],
   "metadata": {
    "collapsed": false
   }
  },
  {
   "cell_type": "code",
   "execution_count": 72,
   "outputs": [],
   "source": [
    "def get_salaries(region_code):\n",
    "    sal_df = pd.DataFrame(columns=('month', 'year', 'kraj', 'avg_monthly_salary'))\n",
    "    count = 0\n",
    "    for i in range(0, len(region_code)):\n",
    "        paths = [f\"https://vdb.czso.cz/vdbvo2/faces/cs/index.jsf?page=vystup-objekt&z=T&f=TABULKA&skupId=855&filtr=G%7EF_M%7EF_Z%7EF_R%7ET_P%7E_S%7E_null_null_&katalog=30852&pvo=MZD01-E&pvo=MZD01-E&evo=v208_!_MZD01-Q-do2010_1&u=v479__VUZEMI__100__{region_code[i]}#w=\", f\"https://vdb.czso.cz/vdbvo2/faces/cs/index.jsf?page=vystup-objekt&pvo=MZD01-C&z=T&f=TABULKA&skupId=855&filtr=G%7EF_M%7EF_Z%7EF_R%7ET_P%7E_S%7E_null_null_&katalog=30852&pvo=MZD01-C&evo=v208_!_MZD-Q-ABS-od2011_1&u=v159__VUZEMI__100__{region_code[i]}\"]\n",
    "        for path in paths:\n",
    "            try:\n",
    "                df = pd.read_html(path, decimal=\",\", thousands=\"\\u00A0\")[6][[\"Unnamed: 0_level_0\", \"Průměrná měsíční mzda (na přepočtené počty zaměstnanců)\"]].droplevel(level=1, axis=1)\n",
    "                # Iterate over rows using iterrows\n",
    "                for index, row in df.iterrows():\n",
    "                    time_data = str.split(row['Unnamed: 0_level_0'])\n",
    "                    year = int(time_data[0])\n",
    "                    # get the first two chars\n",
    "                    quarter = time_data[1][:2]\n",
    "                    qrtr_months = quarters.get(quarter)\n",
    "                    for month in qrtr_months:\n",
    "                        dict = {\n",
    "                            'month': int(month),\n",
    "                            'year': int(year),\n",
    "                            'kraj': region_codes_map.get(region_code[i]),\n",
    "                            'avg_monthly_salary': df[\"Průměrná měsíční mzda (na přepočtené počty zaměstnanců)\"].iloc[index]\n",
    "                        }\n",
    "                        sal_df.loc[count] = dict\n",
    "                        count += 1\n",
    "            except Exception as e:\n",
    "                print(\"error:\", e, \" \", \" \", region_code[i])\n",
    "    return sal_df"
   ],
   "metadata": {
    "collapsed": false
   }
  },
  {
   "cell_type": "code",
   "execution_count": 73,
   "outputs": [
    {
     "data": {
      "text/plain": "      month  year kraj  avg_monthly_salary\n0        10  2010  PHA               33028\n1        11  2010  PHA               33028\n2        12  2010  PHA               33028\n3         7  2010  PHA               30689\n4         8  2010  PHA               30689\n...     ...   ...  ...                 ...\n3985      5  2011  ZLK               21174\n3986      6  2011  ZLK               21174\n3987      1  2011  ZLK               20169\n3988      2  2011  ZLK               20169\n3989      3  2011  ZLK               20169\n\n[3990 rows x 4 columns]",
      "text/html": "<div>\n<style scoped>\n    .dataframe tbody tr th:only-of-type {\n        vertical-align: middle;\n    }\n\n    .dataframe tbody tr th {\n        vertical-align: top;\n    }\n\n    .dataframe thead th {\n        text-align: right;\n    }\n</style>\n<table border=\"1\" class=\"dataframe\">\n  <thead>\n    <tr style=\"text-align: right;\">\n      <th></th>\n      <th>month</th>\n      <th>year</th>\n      <th>kraj</th>\n      <th>avg_monthly_salary</th>\n    </tr>\n  </thead>\n  <tbody>\n    <tr>\n      <th>0</th>\n      <td>10</td>\n      <td>2010</td>\n      <td>PHA</td>\n      <td>33028</td>\n    </tr>\n    <tr>\n      <th>1</th>\n      <td>11</td>\n      <td>2010</td>\n      <td>PHA</td>\n      <td>33028</td>\n    </tr>\n    <tr>\n      <th>2</th>\n      <td>12</td>\n      <td>2010</td>\n      <td>PHA</td>\n      <td>33028</td>\n    </tr>\n    <tr>\n      <th>3</th>\n      <td>7</td>\n      <td>2010</td>\n      <td>PHA</td>\n      <td>30689</td>\n    </tr>\n    <tr>\n      <th>4</th>\n      <td>8</td>\n      <td>2010</td>\n      <td>PHA</td>\n      <td>30689</td>\n    </tr>\n    <tr>\n      <th>...</th>\n      <td>...</td>\n      <td>...</td>\n      <td>...</td>\n      <td>...</td>\n    </tr>\n    <tr>\n      <th>3985</th>\n      <td>5</td>\n      <td>2011</td>\n      <td>ZLK</td>\n      <td>21174</td>\n    </tr>\n    <tr>\n      <th>3986</th>\n      <td>6</td>\n      <td>2011</td>\n      <td>ZLK</td>\n      <td>21174</td>\n    </tr>\n    <tr>\n      <th>3987</th>\n      <td>1</td>\n      <td>2011</td>\n      <td>ZLK</td>\n      <td>20169</td>\n    </tr>\n    <tr>\n      <th>3988</th>\n      <td>2</td>\n      <td>2011</td>\n      <td>ZLK</td>\n      <td>20169</td>\n    </tr>\n    <tr>\n      <th>3989</th>\n      <td>3</td>\n      <td>2011</td>\n      <td>ZLK</td>\n      <td>20169</td>\n    </tr>\n  </tbody>\n</table>\n<p>3990 rows × 4 columns</p>\n</div>"
     },
     "execution_count": 73,
     "metadata": {},
     "output_type": "execute_result"
    }
   ],
   "source": [
    "sal_df = get_salaries(region_code)\n",
    "sal_df"
   ],
   "metadata": {
    "collapsed": false
   }
  },
  {
   "cell_type": "markdown",
   "source": [
    "## Sort the DataFrames"
   ],
   "metadata": {
    "collapsed": false
   }
  },
  {
   "cell_type": "code",
   "execution_count": 74,
   "outputs": [
    {
     "data": {
      "text/plain": "                 avg_monthly_salary\nmonth year kraj                    \n1     2000 HKK                10963\n2     2000 HKK                10963\n3     2000 HKK                10963\n4     2000 HKK                12169\n5     2000 HKK                12169\n...                             ...\n      2023 ZLK                39080\n6     2023 ZLK                39080\n7     2023 ZLK                38596\n8     2023 ZLK                38596\n9     2023 ZLK                38596\n\n[3990 rows x 1 columns]",
      "text/html": "<div>\n<style scoped>\n    .dataframe tbody tr th:only-of-type {\n        vertical-align: middle;\n    }\n\n    .dataframe tbody tr th {\n        vertical-align: top;\n    }\n\n    .dataframe thead th {\n        text-align: right;\n    }\n</style>\n<table border=\"1\" class=\"dataframe\">\n  <thead>\n    <tr style=\"text-align: right;\">\n      <th></th>\n      <th></th>\n      <th></th>\n      <th>avg_monthly_salary</th>\n    </tr>\n    <tr>\n      <th>month</th>\n      <th>year</th>\n      <th>kraj</th>\n      <th></th>\n    </tr>\n  </thead>\n  <tbody>\n    <tr>\n      <th>1</th>\n      <th>2000</th>\n      <th>HKK</th>\n      <td>10963</td>\n    </tr>\n    <tr>\n      <th>2</th>\n      <th>2000</th>\n      <th>HKK</th>\n      <td>10963</td>\n    </tr>\n    <tr>\n      <th>3</th>\n      <th>2000</th>\n      <th>HKK</th>\n      <td>10963</td>\n    </tr>\n    <tr>\n      <th>4</th>\n      <th>2000</th>\n      <th>HKK</th>\n      <td>12169</td>\n    </tr>\n    <tr>\n      <th rowspan=\"3\" valign=\"top\">5</th>\n      <th>2000</th>\n      <th>HKK</th>\n      <td>12169</td>\n    </tr>\n    <tr>\n      <th>...</th>\n      <th>...</th>\n      <td>...</td>\n    </tr>\n    <tr>\n      <th>2023</th>\n      <th>ZLK</th>\n      <td>39080</td>\n    </tr>\n    <tr>\n      <th>6</th>\n      <th>2023</th>\n      <th>ZLK</th>\n      <td>39080</td>\n    </tr>\n    <tr>\n      <th>7</th>\n      <th>2023</th>\n      <th>ZLK</th>\n      <td>38596</td>\n    </tr>\n    <tr>\n      <th>8</th>\n      <th>2023</th>\n      <th>ZLK</th>\n      <td>38596</td>\n    </tr>\n    <tr>\n      <th>9</th>\n      <th>2023</th>\n      <th>ZLK</th>\n      <td>38596</td>\n    </tr>\n  </tbody>\n</table>\n<p>3990 rows × 1 columns</p>\n</div>"
     },
     "metadata": {},
     "output_type": "display_data"
    }
   ],
   "source": [
    "sal_df_sorted = sal_df.sort_values(by=['year', 'kraj', 'month'])\n",
    "sal_df_sorted.set_index([\"month\", \"year\", \"kraj\"], inplace=True)\n",
    "sal_df_sorted.to_csv(\"./salaries.csv\")\n",
    "display(sal_df_sorted)"
   ],
   "metadata": {
    "collapsed": false
   }
  },
  {
   "cell_type": "markdown",
   "source": [
    "## Merge the DataFrames"
   ],
   "metadata": {
    "collapsed": false
   }
  },
  {
   "cell_type": "code",
   "execution_count": null,
   "outputs": [],
   "source": [
    "def merge_df(dfs):\n",
    "    res_df = None\n",
    "    for df_el in dfs:\n",
    "        if res_df is None:\n",
    "            res_df = df_el\n",
    "        else:\n",
    "            res_df = pd.concat([res_df, df_el], axis=1)\n",
    "    return res_df"
   ],
   "metadata": {
    "collapsed": false
   }
  },
  {
   "cell_type": "code",
   "execution_count": 241,
   "outputs": [
    {
     "data": {
      "text/plain": "                 general_thefts  break_in_thefts\nmonth year kraj                                 \n1     2009 HKK              271              174\n2     2009 HKK              245              164\n3     2009 HKK              284              207\n4     2009 HKK              271              162\n5     2009 HKK              268              191\n...                         ...              ...\n6     2023 ZLK               68               51\n7     2023 ZLK               95               48\n8     2023 ZLK              106               30\n9     2023 ZLK               67               57\n10    2023 ZLK               93               35\n\n[2492 rows x 2 columns]",
      "text/html": "<div>\n<style scoped>\n    .dataframe tbody tr th:only-of-type {\n        vertical-align: middle;\n    }\n\n    .dataframe tbody tr th {\n        vertical-align: top;\n    }\n\n    .dataframe thead th {\n        text-align: right;\n    }\n</style>\n<table border=\"1\" class=\"dataframe\">\n  <thead>\n    <tr style=\"text-align: right;\">\n      <th></th>\n      <th></th>\n      <th></th>\n      <th>general_thefts</th>\n      <th>break_in_thefts</th>\n    </tr>\n    <tr>\n      <th>month</th>\n      <th>year</th>\n      <th>kraj</th>\n      <th></th>\n      <th></th>\n    </tr>\n  </thead>\n  <tbody>\n    <tr>\n      <th>1</th>\n      <th>2009</th>\n      <th>HKK</th>\n      <td>271</td>\n      <td>174</td>\n    </tr>\n    <tr>\n      <th>2</th>\n      <th>2009</th>\n      <th>HKK</th>\n      <td>245</td>\n      <td>164</td>\n    </tr>\n    <tr>\n      <th>3</th>\n      <th>2009</th>\n      <th>HKK</th>\n      <td>284</td>\n      <td>207</td>\n    </tr>\n    <tr>\n      <th>4</th>\n      <th>2009</th>\n      <th>HKK</th>\n      <td>271</td>\n      <td>162</td>\n    </tr>\n    <tr>\n      <th>5</th>\n      <th>2009</th>\n      <th>HKK</th>\n      <td>268</td>\n      <td>191</td>\n    </tr>\n    <tr>\n      <th>...</th>\n      <th>...</th>\n      <th>...</th>\n      <td>...</td>\n      <td>...</td>\n    </tr>\n    <tr>\n      <th>6</th>\n      <th>2023</th>\n      <th>ZLK</th>\n      <td>68</td>\n      <td>51</td>\n    </tr>\n    <tr>\n      <th>7</th>\n      <th>2023</th>\n      <th>ZLK</th>\n      <td>95</td>\n      <td>48</td>\n    </tr>\n    <tr>\n      <th>8</th>\n      <th>2023</th>\n      <th>ZLK</th>\n      <td>106</td>\n      <td>30</td>\n    </tr>\n    <tr>\n      <th>9</th>\n      <th>2023</th>\n      <th>ZLK</th>\n      <td>67</td>\n      <td>57</td>\n    </tr>\n    <tr>\n      <th>10</th>\n      <th>2023</th>\n      <th>ZLK</th>\n      <td>93</td>\n      <td>35</td>\n    </tr>\n  </tbody>\n</table>\n<p>2492 rows × 2 columns</p>\n</div>"
     },
     "metadata": {},
     "output_type": "display_data"
    },
    {
     "data": {
      "text/plain": "                 general_thefts  break_in_thefts  avg_monthly_salary\nmonth year kraj                                                     \n1     2009 HKK              271              174             19132.0\n2     2009 HKK              245              164             19132.0\n3     2009 HKK              284              207             19132.0\n4     2009 HKK              271              162             19885.0\n5     2009 HKK              268              191             19885.0\n...                         ...              ...                 ...\n6     2023 ZLK               68               51             39080.0\n7     2023 ZLK               95               48             38596.0\n8     2023 ZLK              106               30             38596.0\n9     2023 ZLK               67               57             38596.0\n10    2023 ZLK               93               35                 NaN\n\n[2492 rows x 3 columns]",
      "text/html": "<div>\n<style scoped>\n    .dataframe tbody tr th:only-of-type {\n        vertical-align: middle;\n    }\n\n    .dataframe tbody tr th {\n        vertical-align: top;\n    }\n\n    .dataframe thead th {\n        text-align: right;\n    }\n</style>\n<table border=\"1\" class=\"dataframe\">\n  <thead>\n    <tr style=\"text-align: right;\">\n      <th></th>\n      <th></th>\n      <th></th>\n      <th>general_thefts</th>\n      <th>break_in_thefts</th>\n      <th>avg_monthly_salary</th>\n    </tr>\n    <tr>\n      <th>month</th>\n      <th>year</th>\n      <th>kraj</th>\n      <th></th>\n      <th></th>\n      <th></th>\n    </tr>\n  </thead>\n  <tbody>\n    <tr>\n      <th>1</th>\n      <th>2009</th>\n      <th>HKK</th>\n      <td>271</td>\n      <td>174</td>\n      <td>19132.0</td>\n    </tr>\n    <tr>\n      <th>2</th>\n      <th>2009</th>\n      <th>HKK</th>\n      <td>245</td>\n      <td>164</td>\n      <td>19132.0</td>\n    </tr>\n    <tr>\n      <th>3</th>\n      <th>2009</th>\n      <th>HKK</th>\n      <td>284</td>\n      <td>207</td>\n      <td>19132.0</td>\n    </tr>\n    <tr>\n      <th>4</th>\n      <th>2009</th>\n      <th>HKK</th>\n      <td>271</td>\n      <td>162</td>\n      <td>19885.0</td>\n    </tr>\n    <tr>\n      <th>5</th>\n      <th>2009</th>\n      <th>HKK</th>\n      <td>268</td>\n      <td>191</td>\n      <td>19885.0</td>\n    </tr>\n    <tr>\n      <th>...</th>\n      <th>...</th>\n      <th>...</th>\n      <td>...</td>\n      <td>...</td>\n      <td>...</td>\n    </tr>\n    <tr>\n      <th>6</th>\n      <th>2023</th>\n      <th>ZLK</th>\n      <td>68</td>\n      <td>51</td>\n      <td>39080.0</td>\n    </tr>\n    <tr>\n      <th>7</th>\n      <th>2023</th>\n      <th>ZLK</th>\n      <td>95</td>\n      <td>48</td>\n      <td>38596.0</td>\n    </tr>\n    <tr>\n      <th>8</th>\n      <th>2023</th>\n      <th>ZLK</th>\n      <td>106</td>\n      <td>30</td>\n      <td>38596.0</td>\n    </tr>\n    <tr>\n      <th>9</th>\n      <th>2023</th>\n      <th>ZLK</th>\n      <td>67</td>\n      <td>57</td>\n      <td>38596.0</td>\n    </tr>\n    <tr>\n      <th>10</th>\n      <th>2023</th>\n      <th>ZLK</th>\n      <td>93</td>\n      <td>35</td>\n      <td>NaN</td>\n    </tr>\n  </tbody>\n</table>\n<p>2492 rows × 3 columns</p>\n</div>"
     },
     "execution_count": 241,
     "metadata": {},
     "output_type": "execute_result"
    }
   ],
   "source": [
    "res_df = crim_df_sorted\n",
    "display(res_df)\n",
    "#res_df = pd+.concat([res_df, sal_df_sorted], axis=1)\n",
    "res_df = res_df.join(sal_df_sorted)\n",
    "# res_df.reset_index(inplace=True)\n",
    "# res_df[\"year\"] = res_df[\"year\"].astype(int)\n",
    "# res_df.set_index(keys=[\"month\", \"year\", \"kraj\"], inplace=True)\n",
    "# dfs = [sal_df_sorted, crim_df_sorted]\n",
    "# res_df = merge_df(dfs)\n",
    "#res_df\n",
    "res_df_sorted = res_df.sort_values(by=['year', 'kraj', 'month'])\n",
    "res_df_sorted"
   ],
   "metadata": {
    "collapsed": false
   }
  },
  {
   "cell_type": "code",
   "execution_count": 242,
   "outputs": [],
   "source": [
    "res_df.to_csv(\"./crim_salaries.csv\")"
   ],
   "metadata": {
    "collapsed": false
   }
  }
 ],
 "metadata": {
  "kernelspec": {
   "display_name": "Python 3",
   "language": "python",
   "name": "python3"
  },
  "language_info": {
   "codemirror_mode": {
    "name": "ipython",
    "version": 2
   },
   "file_extension": ".py",
   "mimetype": "text/x-python",
   "name": "python",
   "nbconvert_exporter": "python",
   "pygments_lexer": "ipython2",
   "version": "2.7.6"
  }
 },
 "nbformat": 4,
 "nbformat_minor": 0
}
