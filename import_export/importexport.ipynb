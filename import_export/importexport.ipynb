{
 "cells": [
  {
   "cell_type": "code",
   "execution_count": 0,
   "id": "21abca93fef5220d",
   "metadata": {
    "collapsed": true
   },
   "outputs": [],
   "source": [
    "import csv"
   ]
  },
  {
   "cell_type": "code",
   "execution_count": 23,
   "outputs": [],
   "source": [
    "months = [\"leden\", \"únor\", \"březen\", \"duben\", \"květen\", \"červen\", \"červenec\", \"srpen\", \"září\", \"říjen\", \"listopad\",\n",
    "          \"prosinec\"]\n",
    "month_dict = {month: index + 1 for index, month in enumerate(months)}\n",
    "abbrev = ['PHA', 'STC', 'JHM', 'PLK', 'HKK', 'VYS', 'KVK', 'LBK', 'PAK', 'MSK', 'OLK', 'ULK', 'ZLK', 'JHC']\n",
    "with open('importexport_vstup.csv', encoding='utf-8', newline='') as csvfile:\n",
    "    reader = csv.reader(csvfile, delimiter=';')\n",
    "\n",
    "    data = [['month', 'year', 'bilance']]\n",
    "    for row in reader:\n",
    "        month_czech, year = row[1].split()\n",
    "        bilance = row[5]\n",
    "        for code in abbrev:\n",
    "            data.append([code, month_dict[month_czech], year, bilance])\n",
    "# print(data)\n",
    "with open('importexport.csv', 'w', newline='') as csvfile:\n",
    "    writer = csv.writer(csvfile)\n",
    "    writer.writerows(data)\n",
    "        \n"
   ],
   "metadata": {
    "collapsed": false,
    "ExecuteTime": {
     "end_time": "2023-12-19T10:47:32.159234500Z",
     "start_time": "2023-12-19T10:47:32.137770400Z"
    }
   },
   "id": "initial_id"
  }
 ],
 "metadata": {
  "kernelspec": {
   "display_name": "Python 3",
   "language": "python",
   "name": "python3"
  },
  "language_info": {
   "codemirror_mode": {
    "name": "ipython",
    "version": 2
   },
   "file_extension": ".py",
   "mimetype": "text/x-python",
   "name": "python",
   "nbconvert_exporter": "python",
   "pygments_lexer": "ipython2",
   "version": "2.7.6"
  }
 },
 "nbformat": 4,
 "nbformat_minor": 5
}
